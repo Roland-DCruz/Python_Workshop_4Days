{
 "cells": [
  {
   "cell_type": "code",
   "execution_count": 16,
   "id": "f87b4d02-b35e-4452-a62d-fe1429ad7a33",
   "metadata": {},
   "outputs": [
    {
     "name": "stdout",
     "output_type": "stream",
     "text": [
      "Hello World\n"
     ]
    }
   ],
   "source": [
    "print(\"Hello World\")"
   ]
  },
  {
   "cell_type": "markdown",
   "id": "7ee8f99e-2cb0-4943-9941-a3eb640dc8ce",
   "metadata": {},
   "source": [
    "# How to deal with files"
   ]
  },
  {
   "cell_type": "code",
   "execution_count": 17,
   "id": "c0021608-fbaf-45a6-b86b-601d2d74cbf0",
   "metadata": {},
   "outputs": [],
   "source": [
    "# to open a text file\n",
    "\n",
    "op = open(\"C://Training//sample1.txt\", \"w\")\n",
    "op.write(\"hello world\\n\")\n",
    "op.write(\"hello world\")\n",
    "op.close()"
   ]
  },
  {
   "cell_type": "code",
   "execution_count": 18,
   "id": "1187e721-4d8a-4710-aa81-f8085f14e9cc",
   "metadata": {},
   "outputs": [
    {
     "name": "stdout",
     "output_type": "stream",
     "text": [
      "hello world\n",
      "hello world\n"
     ]
    }
   ],
   "source": [
    "# to read from a file\n",
    "\n",
    "ip = open(\"C://Training//sample1.txt\", \"r\")\n",
    "content = ip.read()\n",
    "print(content)\n",
    "ip.close()"
   ]
  },
  {
   "cell_type": "code",
   "execution_count": 19,
   "id": "fb37b9a3-2024-49ed-aed3-e27b360140e1",
   "metadata": {},
   "outputs": [],
   "source": [
    "# issue is that if the file is of 1 gb, you will need that much memory.\n",
    "# so instead u can read line by line"
   ]
  },
  {
   "cell_type": "code",
   "execution_count": 22,
   "id": "a4c791ea-f849-414f-86f1-e3e6e04ad16a",
   "metadata": {},
   "outputs": [
    {
     "name": "stdout",
     "output_type": "stream",
     "text": [
      "hello world\n",
      "hello world\n"
     ]
    }
   ],
   "source": [
    "ip = open(\"C://Training//sample1.txt\", \"r\")\n",
    "for line in ip:\n",
    "    print(line.strip()) # this removes special characters such as \\n \n",
    "ip.close()"
   ]
  },
  {
   "cell_type": "code",
   "execution_count": 23,
   "id": "b7d37d9b-c61c-47d0-a498-29b255f9ccb7",
   "metadata": {},
   "outputs": [],
   "source": [
    "# if you dont close a file it will cause leakage problem.\n",
    "# so u can use with . as soon as the scope is over, it will close the file"
   ]
  },
  {
   "cell_type": "code",
   "execution_count": 26,
   "id": "741b6214-55b6-4b70-8203-72d3623d64e0",
   "metadata": {},
   "outputs": [
    {
     "name": "stdout",
     "output_type": "stream",
     "text": [
      "hello world\n",
      "hello world\n"
     ]
    }
   ],
   "source": [
    "with open(\"C://Training//sample1.txt\", \"r\") as ip:\n",
    "    for line in ip:\n",
    "        print(line.strip())"
   ]
  },
  {
   "cell_type": "markdown",
   "id": "4ff710a7-f4ef-4524-97b4-18e9a3700a76",
   "metadata": {},
   "source": [
    "keyboard shortcut: \n",
    "press exc\n",
    "b: to create a new cell\n",
    "m: to convert it to markdown cell\n",
    "dd: to delete the cell\n",
    "enter: to enter the cell"
   ]
  },
  {
   "cell_type": "code",
   "execution_count": 28,
   "id": "d7c32f3a-345f-4b05-9d08-3b84ab1b2a03",
   "metadata": {},
   "outputs": [],
   "source": [
    "with open(\"C://Training//sample2.txt\", \"w\") as op:  # here u can use 'a' instead of w if you want to append rather than override\n",
    "    op.write(\"Line1 \\n\")"
   ]
  },
  {
   "cell_type": "markdown",
   "id": "1a55b865-a9f4-4366-8e5e-df4be13a7d30",
   "metadata": {},
   "source": [
    "# XML\n",
    "\n",
    "--> Extensible markup language\n",
    "this is a format for storing data in the form of tags\n",
    "\n",
    "eg: <student> and within this you can add attributes\n",
    "\n",
    "<student>\n",
    "    <id></id>\n",
    "    <name>\n",
    "        <firstName>myName</firstName>\n",
    "        <lastName>...</lastName>\n",
    "    </name>\n",
    "\n",
    "\n",
    "the first tag is known as root tag.\n",
    "tag is also known as elements. eg id is an element.\n",
    "\n",
    "xml is a way of exchanging data b/w 2 programs.\n",
    "eg if program 1 in python and program 2 in java want to share data, then we use xml\n",
    "it is supported by many programming languages."
   ]
  },
  {
   "cell_type": "markdown",
   "id": "8900fe3d-47f5-4eb5-b231-37750ca9783b",
   "metadata": {},
   "source": [
    "to use it in python, we use lxml module"
   ]
  },
  {
   "cell_type": "code",
   "execution_count": 29,
   "id": "75311133-8e95-4f9a-be07-8bf16e665a20",
   "metadata": {},
   "outputs": [
    {
     "name": "stdout",
     "output_type": "stream",
     "text": [
      "Collecting lxml\n",
      "  Downloading lxml-5.3.0-cp311-cp311-win_amd64.whl (3.8 MB)\n",
      "                                              0.0/3.8 MB ? eta -:--:--\n",
      "                                              0.0/3.8 MB ? eta -:--:--\n",
      "     -                                        0.1/3.8 MB 1.6 MB/s eta 0:00:03\n",
      "     -                                        0.2/3.8 MB 1.5 MB/s eta 0:00:03\n",
      "     ---                                      0.3/3.8 MB 2.1 MB/s eta 0:00:02\n",
      "     ------                                   0.6/3.8 MB 3.6 MB/s eta 0:00:01\n",
      "     ----------                               1.0/3.8 MB 4.4 MB/s eta 0:00:01\n",
      "     ------------                             1.2/3.8 MB 4.9 MB/s eta 0:00:01\n",
      "     -----------------                        1.7/3.8 MB 5.9 MB/s eta 0:00:01\n",
      "     ------------------------                 2.3/3.8 MB 7.1 MB/s eta 0:00:01\n",
      "     ---------------------------------        3.2/3.8 MB 8.8 MB/s eta 0:00:01\n",
      "     ---------------------------------------  3.8/3.8 MB 10.1 MB/s eta 0:00:01\n",
      "     ---------------------------------------- 3.8/3.8 MB 9.4 MB/s eta 0:00:00\n",
      "Installing collected packages: lxml\n",
      "Successfully installed lxml-5.3.0\n"
     ]
    },
    {
     "name": "stderr",
     "output_type": "stream",
     "text": [
      "\n",
      "[notice] A new release of pip is available: 23.1.2 -> 24.2\n",
      "[notice] To update, run: python.exe -m pip install --upgrade pip\n"
     ]
    }
   ],
   "source": [
    "!pip install lxml"
   ]
  },
  {
   "cell_type": "code",
   "execution_count": 30,
   "id": "9106e690-32d2-4f1b-8569-7cb0ad997feb",
   "metadata": {},
   "outputs": [],
   "source": [
    "from lxml import etree"
   ]
  },
  {
   "cell_type": "code",
   "execution_count": 79,
   "id": "4092af4a-81ab-4f96-b64f-49bff7f046c2",
   "metadata": {},
   "outputs": [],
   "source": [
    "stud1.attrib[\"id\"]=\"1\"  # to add an attribute to a tag"
   ]
  },
  {
   "cell_type": "code",
   "execution_count": 80,
   "id": "9f30f292-0cdf-4cb8-aa61-0551666ba44f",
   "metadata": {},
   "outputs": [],
   "source": [
    "# to create a root element\n",
    "stud1 = etree.Element(\"student\")"
   ]
  },
  {
   "cell_type": "code",
   "execution_count": 81,
   "id": "22fd4a44-c9d8-446f-b789-5d74df16e734",
   "metadata": {},
   "outputs": [],
   "source": [
    "# to create sub tags\n",
    "name = etree.Element(\"name\")"
   ]
  },
  {
   "cell_type": "code",
   "execution_count": 82,
   "id": "e7fa0578-5419-4271-b482-a9d85af6ed62",
   "metadata": {},
   "outputs": [],
   "source": [
    "firstname = etree.Element(\"firstName\")\n",
    "firstname.text = \"Roland\""
   ]
  },
  {
   "cell_type": "code",
   "execution_count": 83,
   "id": "94b3eff6-e6b9-4450-ba6e-8de8c1560706",
   "metadata": {},
   "outputs": [],
   "source": [
    "lastname = etree.Element(\"lastName\")\n",
    "lastname.text = \"D'Cruz\""
   ]
  },
  {
   "cell_type": "code",
   "execution_count": 84,
   "id": "a8dac248-b339-4eaa-8abc-e7c860bfec01",
   "metadata": {},
   "outputs": [],
   "source": [
    "name.append(firstname)"
   ]
  },
  {
   "cell_type": "code",
   "execution_count": 85,
   "id": "8fd776ab-2adf-4531-b3fd-8bcd8b74a21d",
   "metadata": {},
   "outputs": [],
   "source": [
    "name.append(lastname)\n",
    "stud1.append(name)"
   ]
  },
  {
   "cell_type": "code",
   "execution_count": null,
   "id": "8d5f5f06-d6fa-4f92-a550-bb4929cbc860",
   "metadata": {},
   "outputs": [],
   "source": []
  },
  {
   "cell_type": "code",
   "execution_count": 86,
   "id": "f59aa262-5880-43c0-bc0a-4fb4f0e9a5dd",
   "metadata": {},
   "outputs": [
    {
     "name": "stdout",
     "output_type": "stream",
     "text": [
      "<student>\n",
      "  <name>\n",
      "    <firstName>Roland</firstName>\n",
      "    <lastName>D'Cruz</lastName>\n",
      "  </name>\n",
      "</student>\n",
      "\n"
     ]
    }
   ],
   "source": [
    "print(etree.tostring(stud1, pretty_print=True).decode())"
   ]
  },
  {
   "cell_type": "code",
   "execution_count": 87,
   "id": "c9c44f0f-2366-4725-9093-bbc3f91b838e",
   "metadata": {},
   "outputs": [],
   "source": [
    "with open(\"C://Training//studen.xml\", \"w\") as op:\n",
    "    op.write(etree.tostring(stud1, pretty_print=True).decode())\n",
    "    "
   ]
  },
  {
   "cell_type": "code",
   "execution_count": 88,
   "id": "72ae02f5-66cf-4996-b2e7-1f01d55f78da",
   "metadata": {},
   "outputs": [
    {
     "name": "stdout",
     "output_type": "stream",
     "text": [
      "Roland\n",
      "D'Cruz\n",
      "{}\n"
     ]
    }
   ],
   "source": [
    "with open(\"C://Training//studen.xml\",\"r\") as ip:\n",
    "    root=etree.parse(ip)\n",
    "    rootElem=root.getroot()\n",
    "    print(rootElem.find(\"name/firstName\").text)\n",
    "    print(rootElem.find(\"name/lastName\").text)\n",
    "    print(rootElem.attrib)"
   ]
  },
  {
   "cell_type": "code",
   "execution_count": 89,
   "id": "d0aae4d6-db7a-43b3-8c42-1f13401f0f9d",
   "metadata": {},
   "outputs": [
    {
     "name": "stdout",
     "output_type": "stream",
     "text": [
      "<student>\n",
      "  <name>\n",
      "    <firstName>Roland</firstName>\n",
      "    <lastName>D'Cruz</lastName>\n",
      "  </name>\n",
      "</student>\n",
      "\n"
     ]
    }
   ],
   "source": [
    "xmlString=(etree.tostring(stud1,pretty_print=True).decode())\n",
    "print(xmlString)"
   ]
  },
  {
   "cell_type": "markdown",
   "id": "937c4dbb-7d58-4e8d-a076-ceb784a0cf49",
   "metadata": {},
   "source": [
    "### Download file from the internet"
   ]
  },
  {
   "cell_type": "code",
   "execution_count": 90,
   "id": "cb1e4c68-2033-4b93-a731-db07a99e2dc8",
   "metadata": {},
   "outputs": [],
   "source": [
    "import requests"
   ]
  },
  {
   "cell_type": "code",
   "execution_count": 91,
   "id": "de12c0ad-5f00-4247-86ee-1296ffa04687",
   "metadata": {},
   "outputs": [],
   "source": [
    "resp= requests.get(\"https://www.w3schools.com/xml/cd_catalog.xml\")"
   ]
  },
  {
   "cell_type": "code",
   "execution_count": 92,
   "id": "20d8eca3-4073-4894-a1f5-f97fc17d8605",
   "metadata": {},
   "outputs": [],
   "source": [
    "with open(\"C://training//cd.xml\", \"w\") as op:\n",
    "    op.write(resp.text)"
   ]
  },
  {
   "cell_type": "code",
   "execution_count": 96,
   "id": "e00c74a5-936c-4814-8015-6c4673c22b84",
   "metadata": {},
   "outputs": [
    {
     "name": "stdout",
     "output_type": "stream",
     "text": [
      "\n",
      "Title: Empire Burlesque\n",
      "Artist: Bob Dylan\n",
      "\n",
      "Title: Hide your heart\n",
      "Artist: Bonnie Tyler\n",
      "\n",
      "Title: Greatest Hits\n",
      "Artist: Dolly Parton\n",
      "\n",
      "Title: Still got the blues\n",
      "Artist: Gary Moore\n",
      "\n",
      "Title: Eros\n",
      "Artist: Eros Ramazzotti\n",
      "\n",
      "Title: One night only\n",
      "Artist: Bee Gees\n",
      "\n",
      "Title: Sylvias Mother\n",
      "Artist: Dr.Hook\n",
      "\n",
      "Title: Maggie May\n",
      "Artist: Rod Stewart\n",
      "\n",
      "Title: Romanza\n",
      "Artist: Andrea Bocelli\n",
      "\n",
      "Title: When a man loves a woman\n",
      "Artist: Percy Sledge\n",
      "\n",
      "Title: Black angel\n",
      "Artist: Savage Rose\n",
      "\n",
      "Title: 1999 Grammy Nominees\n",
      "Artist: Many\n",
      "\n",
      "Title: For the good times\n",
      "Artist: Kenny Rogers\n",
      "\n",
      "Title: Big Willie style\n",
      "Artist: Will Smith\n",
      "\n",
      "Title: Tupelo Honey\n",
      "Artist: Van Morrison\n",
      "\n",
      "Title: Soulsville\n",
      "Artist: Jorn Hoel\n",
      "\n",
      "Title: The very best of\n",
      "Artist: Cat Stevens\n",
      "\n",
      "Title: Stop\n",
      "Artist: Sam Brown\n",
      "\n",
      "Title: Bridge of Spies\n",
      "Artist: T'Pau\n",
      "\n",
      "Title: Private Dancer\n",
      "Artist: Tina Turner\n",
      "\n",
      "Title: Midt om natten\n",
      "Artist: Kim Larsen\n",
      "\n",
      "Title: Pavarotti Gala Concert\n",
      "Artist: Luciano Pavarotti\n",
      "\n",
      "Title: The dock of the bay\n",
      "Artist: Otis Redding\n",
      "\n",
      "Title: Picture book\n",
      "Artist: Simply Red\n",
      "\n",
      "Title: Red\n",
      "Artist: The Communards\n",
      "\n",
      "Title: Unchain my heart\n",
      "Artist: Joe Cocker\n"
     ]
    }
   ],
   "source": [
    "# now we have to pass this\n",
    "# you can use findall method to get all the elements \n",
    "\n",
    "with open(\"C://training//cd.xml\",\"r\") as ip:\n",
    "    root = etree.parse(ip)\n",
    "    rootElem=root.getroot()\n",
    "    for cd in rootElem.findall(\"CD\"):\n",
    "        print(\"\")\n",
    "        print(\"Title:\", cd.find(\"TITLE\").text)\n",
    "        print(\"Artist:\", cd.find(\"ARTIST\").text)"
   ]
  },
  {
   "cell_type": "markdown",
   "id": "43f3d018-a21b-427b-bc98-e589a3646847",
   "metadata": {},
   "source": [
    "now to convert this to a list of dictionary"
   ]
  },
  {
   "cell_type": "code",
   "execution_count": 98,
   "id": "7447c397-98ff-43c3-80e1-8bd8f22486b1",
   "metadata": {},
   "outputs": [
    {
     "name": "stdout",
     "output_type": "stream",
     "text": [
      "[{'TITLE': 'Empire Burlesque', 'ARTIST': 'Bob Dylan', 'COUNTRY': 'USA', 'COMPANY': 'Columbia', 'PRICE': '10.90', 'YEAR': '1985'}, {'TITLE': 'Hide your heart', 'ARTIST': 'Bonnie Tyler', 'COUNTRY': 'UK', 'COMPANY': 'CBS Records', 'PRICE': '9.90', 'YEAR': '1988'}, {'TITLE': 'Greatest Hits', 'ARTIST': 'Dolly Parton', 'COUNTRY': 'USA', 'COMPANY': 'RCA', 'PRICE': '9.90', 'YEAR': '1982'}, {'TITLE': 'Still got the blues', 'ARTIST': 'Gary Moore', 'COUNTRY': 'UK', 'COMPANY': 'Virgin records', 'PRICE': '10.20', 'YEAR': '1990'}, {'TITLE': 'Eros', 'ARTIST': 'Eros Ramazzotti', 'COUNTRY': 'EU', 'COMPANY': 'BMG', 'PRICE': '9.90', 'YEAR': '1997'}, {'TITLE': 'One night only', 'ARTIST': 'Bee Gees', 'COUNTRY': 'UK', 'COMPANY': 'Polydor', 'PRICE': '10.90', 'YEAR': '1998'}, {'TITLE': 'Sylvias Mother', 'ARTIST': 'Dr.Hook', 'COUNTRY': 'UK', 'COMPANY': 'CBS', 'PRICE': '8.10', 'YEAR': '1973'}, {'TITLE': 'Maggie May', 'ARTIST': 'Rod Stewart', 'COUNTRY': 'UK', 'COMPANY': 'Pickwick', 'PRICE': '8.50', 'YEAR': '1990'}, {'TITLE': 'Romanza', 'ARTIST': 'Andrea Bocelli', 'COUNTRY': 'EU', 'COMPANY': 'Polydor', 'PRICE': '10.80', 'YEAR': '1996'}, {'TITLE': 'When a man loves a woman', 'ARTIST': 'Percy Sledge', 'COUNTRY': 'USA', 'COMPANY': 'Atlantic', 'PRICE': '8.70', 'YEAR': '1987'}, {'TITLE': 'Black angel', 'ARTIST': 'Savage Rose', 'COUNTRY': 'EU', 'COMPANY': 'Mega', 'PRICE': '10.90', 'YEAR': '1995'}, {'TITLE': '1999 Grammy Nominees', 'ARTIST': 'Many', 'COUNTRY': 'USA', 'COMPANY': 'Grammy', 'PRICE': '10.20', 'YEAR': '1999'}, {'TITLE': 'For the good times', 'ARTIST': 'Kenny Rogers', 'COUNTRY': 'UK', 'COMPANY': 'Mucik Master', 'PRICE': '8.70', 'YEAR': '1995'}, {'TITLE': 'Big Willie style', 'ARTIST': 'Will Smith', 'COUNTRY': 'USA', 'COMPANY': 'Columbia', 'PRICE': '9.90', 'YEAR': '1997'}, {'TITLE': 'Tupelo Honey', 'ARTIST': 'Van Morrison', 'COUNTRY': 'UK', 'COMPANY': 'Polydor', 'PRICE': '8.20', 'YEAR': '1971'}, {'TITLE': 'Soulsville', 'ARTIST': 'Jorn Hoel', 'COUNTRY': 'Norway', 'COMPANY': 'WEA', 'PRICE': '7.90', 'YEAR': '1996'}, {'TITLE': 'The very best of', 'ARTIST': 'Cat Stevens', 'COUNTRY': 'UK', 'COMPANY': 'Island', 'PRICE': '8.90', 'YEAR': '1990'}, {'TITLE': 'Stop', 'ARTIST': 'Sam Brown', 'COUNTRY': 'UK', 'COMPANY': 'A and M', 'PRICE': '8.90', 'YEAR': '1988'}, {'TITLE': 'Bridge of Spies', 'ARTIST': \"T'Pau\", 'COUNTRY': 'UK', 'COMPANY': 'Siren', 'PRICE': '7.90', 'YEAR': '1987'}, {'TITLE': 'Private Dancer', 'ARTIST': 'Tina Turner', 'COUNTRY': 'UK', 'COMPANY': 'Capitol', 'PRICE': '8.90', 'YEAR': '1983'}, {'TITLE': 'Midt om natten', 'ARTIST': 'Kim Larsen', 'COUNTRY': 'EU', 'COMPANY': 'Medley', 'PRICE': '7.80', 'YEAR': '1983'}, {'TITLE': 'Pavarotti Gala Concert', 'ARTIST': 'Luciano Pavarotti', 'COUNTRY': 'UK', 'COMPANY': 'DECCA', 'PRICE': '9.90', 'YEAR': '1991'}, {'TITLE': 'The dock of the bay', 'ARTIST': 'Otis Redding', 'COUNTRY': 'USA', 'COMPANY': 'Stax Records', 'PRICE': '7.90', 'YEAR': '1968'}, {'TITLE': 'Picture book', 'ARTIST': 'Simply Red', 'COUNTRY': 'EU', 'COMPANY': 'Elektra', 'PRICE': '7.20', 'YEAR': '1985'}, {'TITLE': 'Red', 'ARTIST': 'The Communards', 'COUNTRY': 'UK', 'COMPANY': 'London', 'PRICE': '7.80', 'YEAR': '1987'}, {'TITLE': 'Unchain my heart', 'ARTIST': 'Joe Cocker', 'COUNTRY': 'USA', 'COMPANY': 'EMI', 'PRICE': '8.20', 'YEAR': '1987'}]\n"
     ]
    }
   ],
   "source": [
    "# here, for each cd, we are saving each attribute and its value as a key value pair in a dict called cdDict.\n",
    "# all these dict are then saved in a list called cds.\n",
    "\n",
    "cds = []\n",
    "\n",
    "columns = ['TITLE','ARTIST','COUNTRY','COMPANY','PRICE','YEAR']\n",
    "\n",
    "with open(\"C://training//cd.xml\",\"r\") as ip:\n",
    "\n",
    "    root = etree.parse(ip)\n",
    "\n",
    "    rootElem=root.getroot()\n",
    "\n",
    "    for cd in rootElem.findall(\"CD\"):\n",
    "\n",
    "        cdDict ={}\n",
    "\n",
    "        for c in columns:\n",
    "\n",
    "            cdDict[c]=cd.find(c).text\n",
    "\n",
    "        cds.append(cdDict)\n",
    "\n",
    "print(cds)\n",
    " "
   ]
  },
  {
   "cell_type": "markdown",
   "id": "ed5131e9-b35e-4a84-a34d-e03346dee8b4",
   "metadata": {},
   "source": [
    "#### Similar demo exercise"
   ]
  },
  {
   "cell_type": "code",
   "execution_count": 99,
   "id": "a6544e0b-d849-45c9-94b2-7d64e7e49927",
   "metadata": {},
   "outputs": [],
   "source": [
    "resp= requests.get(\"https://www.w3schools.com/xml/plant_catalog.xml\")"
   ]
  },
  {
   "cell_type": "code",
   "execution_count": 100,
   "id": "539ff8be-13be-44a7-9f42-87ce959cecca",
   "metadata": {},
   "outputs": [],
   "source": [
    "with open(\"C://training//plant.xml\", \"w\") as op:\n",
    "    op.write(resp.text)"
   ]
  },
  {
   "cell_type": "code",
   "execution_count": 101,
   "id": "471aab07-b693-489f-9142-3e4e1a272a88",
   "metadata": {},
   "outputs": [
    {
     "name": "stdout",
     "output_type": "stream",
     "text": [
      "\n",
      "Title: 4\n",
      "Artist: $2.44\n",
      "\n",
      "Title: 3\n",
      "Artist: $9.37\n",
      "\n",
      "Title: 4\n",
      "Artist: $6.81\n",
      "\n",
      "Title: 4\n",
      "Artist: $9.90\n",
      "\n",
      "Title: 3\n",
      "Artist: $6.44\n",
      "\n",
      "Title: 3\n",
      "Artist: $9.03\n",
      "\n",
      "Title: 4\n",
      "Artist: $4.45\n",
      "\n",
      "Title: 4\n",
      "Artist: $3.99\n",
      "\n",
      "Title: 4\n",
      "Artist: $3.23\n",
      "\n",
      "Title: 3\n",
      "Artist: $2.98\n",
      "\n",
      "Title: 3\n",
      "Artist: $2.80\n",
      "\n",
      "Title: 3\n",
      "Artist: $5.59\n",
      "\n",
      "Title: 7\n",
      "Artist: $6.59\n",
      "\n",
      "Title: 5\n",
      "Artist: $3.90\n",
      "\n",
      "Title: 5\n",
      "Artist: $3.20\n",
      "\n",
      "Title: 4\n",
      "Artist: $9.04\n",
      "\n",
      "Title: 4\n",
      "Artist: $6.94\n",
      "\n",
      "Title: 4\n",
      "Artist: $9.58\n",
      "\n",
      "Title: 6\n",
      "Artist: $8.86\n",
      "\n",
      "Title: 6\n",
      "Artist: $9.16\n",
      "\n",
      "Title: 4\n",
      "Artist: $4.59\n",
      "\n",
      "Title: 4\n",
      "Artist: $7.16\n",
      "\n",
      "Title: Annual\n",
      "Artist: $9.80\n",
      "\n",
      "Title: 4\n",
      "Artist: $2.57\n",
      "\n",
      "Title: 4\n",
      "Artist: $9.34\n",
      "\n",
      "Title: Annual\n",
      "Artist: $2.78\n",
      "\n",
      "Title: Annual\n",
      "Artist: $7.06\n",
      "\n",
      "Title: 3 - 5\n",
      "Artist: $6.56\n",
      "\n",
      "Title: 4\n",
      "Artist: $7.81\n",
      "\n",
      "Title: 4\n",
      "Artist: $8.56\n",
      "\n",
      "Title: Annual\n",
      "Artist: $9.26\n",
      "\n",
      "Title: Annual\n",
      "Artist: $4.36\n",
      "\n",
      "Title: Annual\n",
      "Artist: $7.89\n",
      "\n",
      "Title: Annual\n",
      "Artist: $8.60\n",
      "\n",
      "Title: Annual\n",
      "Artist: $5.63\n",
      "\n",
      "Title: 2\n",
      "Artist: $3.02\n"
     ]
    }
   ],
   "source": [
    "# now we have to pass this\n",
    "# you can use findall method to get all the elements \n",
    "\n",
    "with open(\"C://training//plant.xml\",\"r\") as ip:\n",
    "    root = etree.parse(ip)\n",
    "    rootElem=root.getroot()\n",
    "    for cd in rootElem.findall(\"PLANT\"):\n",
    "        print(\"\")\n",
    "        print(\"Title:\", cd.find(\"ZONE\").text)\n",
    "        print(\"Artist:\", cd.find(\"PRICE\").text)"
   ]
  },
  {
   "cell_type": "code",
   "execution_count": 102,
   "id": "9bf131f3-506d-4f18-bdbf-20413b6b687c",
   "metadata": {},
   "outputs": [
    {
     "name": "stdout",
     "output_type": "stream",
     "text": [
      "[{'COMMON': 'Bloodroot', 'BOTANICAL': 'Sanguinaria canadensis', 'ZONE': '4', 'LIGHT': 'Mostly Shady', 'PRICE': '$2.44', 'AVAILABILITY': '031599'}, {'COMMON': 'Columbine', 'BOTANICAL': 'Aquilegia canadensis', 'ZONE': '3', 'LIGHT': 'Mostly Shady', 'PRICE': '$9.37', 'AVAILABILITY': '030699'}, {'COMMON': 'Marsh Marigold', 'BOTANICAL': 'Caltha palustris', 'ZONE': '4', 'LIGHT': 'Mostly Sunny', 'PRICE': '$6.81', 'AVAILABILITY': '051799'}, {'COMMON': 'Cowslip', 'BOTANICAL': 'Caltha palustris', 'ZONE': '4', 'LIGHT': 'Mostly Shady', 'PRICE': '$9.90', 'AVAILABILITY': '030699'}, {'COMMON': \"Dutchman's-Breeches\", 'BOTANICAL': 'Dicentra cucullaria', 'ZONE': '3', 'LIGHT': 'Mostly Shady', 'PRICE': '$6.44', 'AVAILABILITY': '012099'}, {'COMMON': 'Ginger, Wild', 'BOTANICAL': 'Asarum canadense', 'ZONE': '3', 'LIGHT': 'Mostly Shady', 'PRICE': '$9.03', 'AVAILABILITY': '041899'}, {'COMMON': 'Hepatica', 'BOTANICAL': 'Hepatica americana', 'ZONE': '4', 'LIGHT': 'Mostly Shady', 'PRICE': '$4.45', 'AVAILABILITY': '012699'}, {'COMMON': 'Liverleaf', 'BOTANICAL': 'Hepatica americana', 'ZONE': '4', 'LIGHT': 'Mostly Shady', 'PRICE': '$3.99', 'AVAILABILITY': '010299'}, {'COMMON': 'Jack-In-The-Pulpit', 'BOTANICAL': 'Arisaema triphyllum', 'ZONE': '4', 'LIGHT': 'Mostly Shady', 'PRICE': '$3.23', 'AVAILABILITY': '020199'}, {'COMMON': 'Mayapple', 'BOTANICAL': 'Podophyllum peltatum', 'ZONE': '3', 'LIGHT': 'Mostly Shady', 'PRICE': '$2.98', 'AVAILABILITY': '060599'}, {'COMMON': 'Phlox, Woodland', 'BOTANICAL': 'Phlox divaricata', 'ZONE': '3', 'LIGHT': 'Sun or Shade', 'PRICE': '$2.80', 'AVAILABILITY': '012299'}, {'COMMON': 'Phlox, Blue', 'BOTANICAL': 'Phlox divaricata', 'ZONE': '3', 'LIGHT': 'Sun or Shade', 'PRICE': '$5.59', 'AVAILABILITY': '021699'}, {'COMMON': 'Spring-Beauty', 'BOTANICAL': 'Claytonia Virginica', 'ZONE': '7', 'LIGHT': 'Mostly Shady', 'PRICE': '$6.59', 'AVAILABILITY': '020199'}, {'COMMON': 'Trillium', 'BOTANICAL': 'Trillium grandiflorum', 'ZONE': '5', 'LIGHT': 'Sun or Shade', 'PRICE': '$3.90', 'AVAILABILITY': '042999'}, {'COMMON': 'Wake Robin', 'BOTANICAL': 'Trillium grandiflorum', 'ZONE': '5', 'LIGHT': 'Sun or Shade', 'PRICE': '$3.20', 'AVAILABILITY': '022199'}, {'COMMON': 'Violet, Dog-Tooth', 'BOTANICAL': 'Erythronium americanum', 'ZONE': '4', 'LIGHT': 'Shade', 'PRICE': '$9.04', 'AVAILABILITY': '020199'}, {'COMMON': 'Trout Lily', 'BOTANICAL': 'Erythronium americanum', 'ZONE': '4', 'LIGHT': 'Shade', 'PRICE': '$6.94', 'AVAILABILITY': '032499'}, {'COMMON': \"Adder's-Tongue\", 'BOTANICAL': 'Erythronium americanum', 'ZONE': '4', 'LIGHT': 'Shade', 'PRICE': '$9.58', 'AVAILABILITY': '041399'}, {'COMMON': 'Anemone', 'BOTANICAL': 'Anemone blanda', 'ZONE': '6', 'LIGHT': 'Mostly Shady', 'PRICE': '$8.86', 'AVAILABILITY': '122698'}, {'COMMON': 'Grecian Windflower', 'BOTANICAL': 'Anemone blanda', 'ZONE': '6', 'LIGHT': 'Mostly Shady', 'PRICE': '$9.16', 'AVAILABILITY': '071099'}, {'COMMON': 'Bee Balm', 'BOTANICAL': 'Monarda didyma', 'ZONE': '4', 'LIGHT': 'Shade', 'PRICE': '$4.59', 'AVAILABILITY': '050399'}, {'COMMON': 'Bergamot', 'BOTANICAL': 'Monarda didyma', 'ZONE': '4', 'LIGHT': 'Shade', 'PRICE': '$7.16', 'AVAILABILITY': '042799'}, {'COMMON': 'Black-Eyed Susan', 'BOTANICAL': 'Rudbeckia hirta', 'ZONE': 'Annual', 'LIGHT': 'Sunny', 'PRICE': '$9.80', 'AVAILABILITY': '061899'}, {'COMMON': 'Buttercup', 'BOTANICAL': 'Ranunculus', 'ZONE': '4', 'LIGHT': 'Shade', 'PRICE': '$2.57', 'AVAILABILITY': '061099'}, {'COMMON': 'Crowfoot', 'BOTANICAL': 'Ranunculus', 'ZONE': '4', 'LIGHT': 'Shade', 'PRICE': '$9.34', 'AVAILABILITY': '040399'}, {'COMMON': 'Butterfly Weed', 'BOTANICAL': 'Asclepias tuberosa', 'ZONE': 'Annual', 'LIGHT': 'Sunny', 'PRICE': '$2.78', 'AVAILABILITY': '063099'}, {'COMMON': 'Cinquefoil', 'BOTANICAL': 'Potentilla', 'ZONE': 'Annual', 'LIGHT': 'Shade', 'PRICE': '$7.06', 'AVAILABILITY': '052599'}, {'COMMON': 'Primrose', 'BOTANICAL': 'Oenothera', 'ZONE': '3 - 5', 'LIGHT': 'Sunny', 'PRICE': '$6.56', 'AVAILABILITY': '013099'}, {'COMMON': 'Gentian', 'BOTANICAL': 'Gentiana', 'ZONE': '4', 'LIGHT': 'Sun or Shade', 'PRICE': '$7.81', 'AVAILABILITY': '051899'}, {'COMMON': 'Blue Gentian', 'BOTANICAL': 'Gentiana', 'ZONE': '4', 'LIGHT': 'Sun or Shade', 'PRICE': '$8.56', 'AVAILABILITY': '050299'}, {'COMMON': \"Jacob's Ladder\", 'BOTANICAL': 'Polemonium caeruleum', 'ZONE': 'Annual', 'LIGHT': 'Shade', 'PRICE': '$9.26', 'AVAILABILITY': '022199'}, {'COMMON': 'Greek Valerian', 'BOTANICAL': 'Polemonium caeruleum', 'ZONE': 'Annual', 'LIGHT': 'Shade', 'PRICE': '$4.36', 'AVAILABILITY': '071499'}, {'COMMON': 'California Poppy', 'BOTANICAL': 'Eschscholzia californica', 'ZONE': 'Annual', 'LIGHT': 'Sun', 'PRICE': '$7.89', 'AVAILABILITY': '032799'}, {'COMMON': 'Shooting Star', 'BOTANICAL': 'Dodecatheon', 'ZONE': 'Annual', 'LIGHT': 'Mostly Shady', 'PRICE': '$8.60', 'AVAILABILITY': '051399'}, {'COMMON': 'Snakeroot', 'BOTANICAL': 'Cimicifuga', 'ZONE': 'Annual', 'LIGHT': 'Shade', 'PRICE': '$5.63', 'AVAILABILITY': '071199'}, {'COMMON': 'Cardinal Flower', 'BOTANICAL': 'Lobelia cardinalis', 'ZONE': '2', 'LIGHT': 'Shade', 'PRICE': '$3.02', 'AVAILABILITY': '022299'}]\n"
     ]
    }
   ],
   "source": [
    "# here, for each cd, we are saving each attribute and its value as a key value pair in a dict called cdDict.\n",
    "# all these dict are then saved in a list called cds.\n",
    "\n",
    "cds = []\n",
    "\n",
    "columns = ['COMMON','BOTANICAL','ZONE','LIGHT','PRICE','AVAILABILITY']\n",
    "\n",
    "with open(\"C://training//plant.xml\",\"r\") as ip:\n",
    "\n",
    "    root = etree.parse(ip)\n",
    "\n",
    "    rootElem=root.getroot()\n",
    "\n",
    "    for cd in rootElem.findall(\"PLANT\"):\n",
    "\n",
    "        cdDict ={}\n",
    "\n",
    "        for c in columns:\n",
    "\n",
    "            cdDict[c]=cd.find(c).text\n",
    "\n",
    "        cds.append(cdDict)\n",
    "\n",
    "print(cds)\n",
    " "
   ]
  },
  {
   "cell_type": "markdown",
   "id": "a9a5bbda-2a01-4ea5-ace5-a479864b4735",
   "metadata": {},
   "source": [
    "### URL-To-Dict function"
   ]
  },
  {
   "cell_type": "code",
   "execution_count": 104,
   "id": "c084cef6-04ef-46f2-9578-ef0c3889beaf",
   "metadata": {},
   "outputs": [],
   "source": [
    "def urlToDict(url,rootTag,listofelements):\n",
    "\n",
    "    dataLst =[]\n",
    "    response=requests.get(url)\n",
    "    xmlString=response.text\n",
    "\n",
    "    with open(\"abc.xml\",\"w\") as op:\n",
    "        op.write(xmlString)\n",
    "\n",
    "    with open('abc.xml',\"r\") as ip:\n",
    "        root=etree.parse(ip)\n",
    "        rootElem=root.getroot()\n",
    "\n",
    "        for element in rootElem:\n",
    "            data = {}\n",
    "            for c in listofelements:\n",
    "                data[c]=element.find(c).text\n",
    "            dataLst.append(data)\n",
    "\n",
    "    return dataLst"
   ]
  },
  {
   "cell_type": "code",
   "execution_count": 105,
   "id": "27cd543f-1bd6-43b6-b051-d96005540ff2",
   "metadata": {},
   "outputs": [
    {
     "data": {
      "text/plain": [
       "[{'COMMON': 'Bloodroot',\n",
       "  'BOTANICAL': 'Sanguinaria canadensis',\n",
       "  'ZONE': '4',\n",
       "  'LIGHT': 'Mostly Shady',\n",
       "  'PRICE': '$2.44',\n",
       "  'AVAILABILITY': '031599'},\n",
       " {'COMMON': 'Columbine',\n",
       "  'BOTANICAL': 'Aquilegia canadensis',\n",
       "  'ZONE': '3',\n",
       "  'LIGHT': 'Mostly Shady',\n",
       "  'PRICE': '$9.37',\n",
       "  'AVAILABILITY': '030699'},\n",
       " {'COMMON': 'Marsh Marigold',\n",
       "  'BOTANICAL': 'Caltha palustris',\n",
       "  'ZONE': '4',\n",
       "  'LIGHT': 'Mostly Sunny',\n",
       "  'PRICE': '$6.81',\n",
       "  'AVAILABILITY': '051799'},\n",
       " {'COMMON': 'Cowslip',\n",
       "  'BOTANICAL': 'Caltha palustris',\n",
       "  'ZONE': '4',\n",
       "  'LIGHT': 'Mostly Shady',\n",
       "  'PRICE': '$9.90',\n",
       "  'AVAILABILITY': '030699'},\n",
       " {'COMMON': \"Dutchman's-Breeches\",\n",
       "  'BOTANICAL': 'Dicentra cucullaria',\n",
       "  'ZONE': '3',\n",
       "  'LIGHT': 'Mostly Shady',\n",
       "  'PRICE': '$6.44',\n",
       "  'AVAILABILITY': '012099'},\n",
       " {'COMMON': 'Ginger, Wild',\n",
       "  'BOTANICAL': 'Asarum canadense',\n",
       "  'ZONE': '3',\n",
       "  'LIGHT': 'Mostly Shady',\n",
       "  'PRICE': '$9.03',\n",
       "  'AVAILABILITY': '041899'},\n",
       " {'COMMON': 'Hepatica',\n",
       "  'BOTANICAL': 'Hepatica americana',\n",
       "  'ZONE': '4',\n",
       "  'LIGHT': 'Mostly Shady',\n",
       "  'PRICE': '$4.45',\n",
       "  'AVAILABILITY': '012699'},\n",
       " {'COMMON': 'Liverleaf',\n",
       "  'BOTANICAL': 'Hepatica americana',\n",
       "  'ZONE': '4',\n",
       "  'LIGHT': 'Mostly Shady',\n",
       "  'PRICE': '$3.99',\n",
       "  'AVAILABILITY': '010299'},\n",
       " {'COMMON': 'Jack-In-The-Pulpit',\n",
       "  'BOTANICAL': 'Arisaema triphyllum',\n",
       "  'ZONE': '4',\n",
       "  'LIGHT': 'Mostly Shady',\n",
       "  'PRICE': '$3.23',\n",
       "  'AVAILABILITY': '020199'},\n",
       " {'COMMON': 'Mayapple',\n",
       "  'BOTANICAL': 'Podophyllum peltatum',\n",
       "  'ZONE': '3',\n",
       "  'LIGHT': 'Mostly Shady',\n",
       "  'PRICE': '$2.98',\n",
       "  'AVAILABILITY': '060599'},\n",
       " {'COMMON': 'Phlox, Woodland',\n",
       "  'BOTANICAL': 'Phlox divaricata',\n",
       "  'ZONE': '3',\n",
       "  'LIGHT': 'Sun or Shade',\n",
       "  'PRICE': '$2.80',\n",
       "  'AVAILABILITY': '012299'},\n",
       " {'COMMON': 'Phlox, Blue',\n",
       "  'BOTANICAL': 'Phlox divaricata',\n",
       "  'ZONE': '3',\n",
       "  'LIGHT': 'Sun or Shade',\n",
       "  'PRICE': '$5.59',\n",
       "  'AVAILABILITY': '021699'},\n",
       " {'COMMON': 'Spring-Beauty',\n",
       "  'BOTANICAL': 'Claytonia Virginica',\n",
       "  'ZONE': '7',\n",
       "  'LIGHT': 'Mostly Shady',\n",
       "  'PRICE': '$6.59',\n",
       "  'AVAILABILITY': '020199'},\n",
       " {'COMMON': 'Trillium',\n",
       "  'BOTANICAL': 'Trillium grandiflorum',\n",
       "  'ZONE': '5',\n",
       "  'LIGHT': 'Sun or Shade',\n",
       "  'PRICE': '$3.90',\n",
       "  'AVAILABILITY': '042999'},\n",
       " {'COMMON': 'Wake Robin',\n",
       "  'BOTANICAL': 'Trillium grandiflorum',\n",
       "  'ZONE': '5',\n",
       "  'LIGHT': 'Sun or Shade',\n",
       "  'PRICE': '$3.20',\n",
       "  'AVAILABILITY': '022199'},\n",
       " {'COMMON': 'Violet, Dog-Tooth',\n",
       "  'BOTANICAL': 'Erythronium americanum',\n",
       "  'ZONE': '4',\n",
       "  'LIGHT': 'Shade',\n",
       "  'PRICE': '$9.04',\n",
       "  'AVAILABILITY': '020199'},\n",
       " {'COMMON': 'Trout Lily',\n",
       "  'BOTANICAL': 'Erythronium americanum',\n",
       "  'ZONE': '4',\n",
       "  'LIGHT': 'Shade',\n",
       "  'PRICE': '$6.94',\n",
       "  'AVAILABILITY': '032499'},\n",
       " {'COMMON': \"Adder's-Tongue\",\n",
       "  'BOTANICAL': 'Erythronium americanum',\n",
       "  'ZONE': '4',\n",
       "  'LIGHT': 'Shade',\n",
       "  'PRICE': '$9.58',\n",
       "  'AVAILABILITY': '041399'},\n",
       " {'COMMON': 'Anemone',\n",
       "  'BOTANICAL': 'Anemone blanda',\n",
       "  'ZONE': '6',\n",
       "  'LIGHT': 'Mostly Shady',\n",
       "  'PRICE': '$8.86',\n",
       "  'AVAILABILITY': '122698'},\n",
       " {'COMMON': 'Grecian Windflower',\n",
       "  'BOTANICAL': 'Anemone blanda',\n",
       "  'ZONE': '6',\n",
       "  'LIGHT': 'Mostly Shady',\n",
       "  'PRICE': '$9.16',\n",
       "  'AVAILABILITY': '071099'},\n",
       " {'COMMON': 'Bee Balm',\n",
       "  'BOTANICAL': 'Monarda didyma',\n",
       "  'ZONE': '4',\n",
       "  'LIGHT': 'Shade',\n",
       "  'PRICE': '$4.59',\n",
       "  'AVAILABILITY': '050399'},\n",
       " {'COMMON': 'Bergamot',\n",
       "  'BOTANICAL': 'Monarda didyma',\n",
       "  'ZONE': '4',\n",
       "  'LIGHT': 'Shade',\n",
       "  'PRICE': '$7.16',\n",
       "  'AVAILABILITY': '042799'},\n",
       " {'COMMON': 'Black-Eyed Susan',\n",
       "  'BOTANICAL': 'Rudbeckia hirta',\n",
       "  'ZONE': 'Annual',\n",
       "  'LIGHT': 'Sunny',\n",
       "  'PRICE': '$9.80',\n",
       "  'AVAILABILITY': '061899'},\n",
       " {'COMMON': 'Buttercup',\n",
       "  'BOTANICAL': 'Ranunculus',\n",
       "  'ZONE': '4',\n",
       "  'LIGHT': 'Shade',\n",
       "  'PRICE': '$2.57',\n",
       "  'AVAILABILITY': '061099'},\n",
       " {'COMMON': 'Crowfoot',\n",
       "  'BOTANICAL': 'Ranunculus',\n",
       "  'ZONE': '4',\n",
       "  'LIGHT': 'Shade',\n",
       "  'PRICE': '$9.34',\n",
       "  'AVAILABILITY': '040399'},\n",
       " {'COMMON': 'Butterfly Weed',\n",
       "  'BOTANICAL': 'Asclepias tuberosa',\n",
       "  'ZONE': 'Annual',\n",
       "  'LIGHT': 'Sunny',\n",
       "  'PRICE': '$2.78',\n",
       "  'AVAILABILITY': '063099'},\n",
       " {'COMMON': 'Cinquefoil',\n",
       "  'BOTANICAL': 'Potentilla',\n",
       "  'ZONE': 'Annual',\n",
       "  'LIGHT': 'Shade',\n",
       "  'PRICE': '$7.06',\n",
       "  'AVAILABILITY': '052599'},\n",
       " {'COMMON': 'Primrose',\n",
       "  'BOTANICAL': 'Oenothera',\n",
       "  'ZONE': '3 - 5',\n",
       "  'LIGHT': 'Sunny',\n",
       "  'PRICE': '$6.56',\n",
       "  'AVAILABILITY': '013099'},\n",
       " {'COMMON': 'Gentian',\n",
       "  'BOTANICAL': 'Gentiana',\n",
       "  'ZONE': '4',\n",
       "  'LIGHT': 'Sun or Shade',\n",
       "  'PRICE': '$7.81',\n",
       "  'AVAILABILITY': '051899'},\n",
       " {'COMMON': 'Blue Gentian',\n",
       "  'BOTANICAL': 'Gentiana',\n",
       "  'ZONE': '4',\n",
       "  'LIGHT': 'Sun or Shade',\n",
       "  'PRICE': '$8.56',\n",
       "  'AVAILABILITY': '050299'},\n",
       " {'COMMON': \"Jacob's Ladder\",\n",
       "  'BOTANICAL': 'Polemonium caeruleum',\n",
       "  'ZONE': 'Annual',\n",
       "  'LIGHT': 'Shade',\n",
       "  'PRICE': '$9.26',\n",
       "  'AVAILABILITY': '022199'},\n",
       " {'COMMON': 'Greek Valerian',\n",
       "  'BOTANICAL': 'Polemonium caeruleum',\n",
       "  'ZONE': 'Annual',\n",
       "  'LIGHT': 'Shade',\n",
       "  'PRICE': '$4.36',\n",
       "  'AVAILABILITY': '071499'},\n",
       " {'COMMON': 'California Poppy',\n",
       "  'BOTANICAL': 'Eschscholzia californica',\n",
       "  'ZONE': 'Annual',\n",
       "  'LIGHT': 'Sun',\n",
       "  'PRICE': '$7.89',\n",
       "  'AVAILABILITY': '032799'},\n",
       " {'COMMON': 'Shooting Star',\n",
       "  'BOTANICAL': 'Dodecatheon',\n",
       "  'ZONE': 'Annual',\n",
       "  'LIGHT': 'Mostly Shady',\n",
       "  'PRICE': '$8.60',\n",
       "  'AVAILABILITY': '051399'},\n",
       " {'COMMON': 'Snakeroot',\n",
       "  'BOTANICAL': 'Cimicifuga',\n",
       "  'ZONE': 'Annual',\n",
       "  'LIGHT': 'Shade',\n",
       "  'PRICE': '$5.63',\n",
       "  'AVAILABILITY': '071199'},\n",
       " {'COMMON': 'Cardinal Flower',\n",
       "  'BOTANICAL': 'Lobelia cardinalis',\n",
       "  'ZONE': '2',\n",
       "  'LIGHT': 'Shade',\n",
       "  'PRICE': '$3.02',\n",
       "  'AVAILABILITY': '022299'}]"
      ]
     },
     "execution_count": 105,
     "metadata": {},
     "output_type": "execute_result"
    }
   ],
   "source": [
    "urlToDict('https://www.w3schools.com/xml/plant_catalog.xml','PLANT',['COMMON','BOTANICAL','ZONE','LIGHT','PRICE','AVAILABILITY'])"
   ]
  },
  {
   "cell_type": "code",
   "execution_count": 107,
   "id": "31460b21-b393-42ba-bf05-8fb3ec575e55",
   "metadata": {},
   "outputs": [
    {
     "data": {
      "text/plain": [
       "[{'TITLE': 'Empire Burlesque',\n",
       "  'ARTIST': 'Bob Dylan',\n",
       "  'COUNTRY': 'USA',\n",
       "  'COMPANY': 'Columbia',\n",
       "  'PRICE': '10.90',\n",
       "  'YEAR': '1985'},\n",
       " {'TITLE': 'Hide your heart',\n",
       "  'ARTIST': 'Bonnie Tyler',\n",
       "  'COUNTRY': 'UK',\n",
       "  'COMPANY': 'CBS Records',\n",
       "  'PRICE': '9.90',\n",
       "  'YEAR': '1988'},\n",
       " {'TITLE': 'Greatest Hits',\n",
       "  'ARTIST': 'Dolly Parton',\n",
       "  'COUNTRY': 'USA',\n",
       "  'COMPANY': 'RCA',\n",
       "  'PRICE': '9.90',\n",
       "  'YEAR': '1982'},\n",
       " {'TITLE': 'Still got the blues',\n",
       "  'ARTIST': 'Gary Moore',\n",
       "  'COUNTRY': 'UK',\n",
       "  'COMPANY': 'Virgin records',\n",
       "  'PRICE': '10.20',\n",
       "  'YEAR': '1990'},\n",
       " {'TITLE': 'Eros',\n",
       "  'ARTIST': 'Eros Ramazzotti',\n",
       "  'COUNTRY': 'EU',\n",
       "  'COMPANY': 'BMG',\n",
       "  'PRICE': '9.90',\n",
       "  'YEAR': '1997'},\n",
       " {'TITLE': 'One night only',\n",
       "  'ARTIST': 'Bee Gees',\n",
       "  'COUNTRY': 'UK',\n",
       "  'COMPANY': 'Polydor',\n",
       "  'PRICE': '10.90',\n",
       "  'YEAR': '1998'},\n",
       " {'TITLE': 'Sylvias Mother',\n",
       "  'ARTIST': 'Dr.Hook',\n",
       "  'COUNTRY': 'UK',\n",
       "  'COMPANY': 'CBS',\n",
       "  'PRICE': '8.10',\n",
       "  'YEAR': '1973'},\n",
       " {'TITLE': 'Maggie May',\n",
       "  'ARTIST': 'Rod Stewart',\n",
       "  'COUNTRY': 'UK',\n",
       "  'COMPANY': 'Pickwick',\n",
       "  'PRICE': '8.50',\n",
       "  'YEAR': '1990'},\n",
       " {'TITLE': 'Romanza',\n",
       "  'ARTIST': 'Andrea Bocelli',\n",
       "  'COUNTRY': 'EU',\n",
       "  'COMPANY': 'Polydor',\n",
       "  'PRICE': '10.80',\n",
       "  'YEAR': '1996'},\n",
       " {'TITLE': 'When a man loves a woman',\n",
       "  'ARTIST': 'Percy Sledge',\n",
       "  'COUNTRY': 'USA',\n",
       "  'COMPANY': 'Atlantic',\n",
       "  'PRICE': '8.70',\n",
       "  'YEAR': '1987'},\n",
       " {'TITLE': 'Black angel',\n",
       "  'ARTIST': 'Savage Rose',\n",
       "  'COUNTRY': 'EU',\n",
       "  'COMPANY': 'Mega',\n",
       "  'PRICE': '10.90',\n",
       "  'YEAR': '1995'},\n",
       " {'TITLE': '1999 Grammy Nominees',\n",
       "  'ARTIST': 'Many',\n",
       "  'COUNTRY': 'USA',\n",
       "  'COMPANY': 'Grammy',\n",
       "  'PRICE': '10.20',\n",
       "  'YEAR': '1999'},\n",
       " {'TITLE': 'For the good times',\n",
       "  'ARTIST': 'Kenny Rogers',\n",
       "  'COUNTRY': 'UK',\n",
       "  'COMPANY': 'Mucik Master',\n",
       "  'PRICE': '8.70',\n",
       "  'YEAR': '1995'},\n",
       " {'TITLE': 'Big Willie style',\n",
       "  'ARTIST': 'Will Smith',\n",
       "  'COUNTRY': 'USA',\n",
       "  'COMPANY': 'Columbia',\n",
       "  'PRICE': '9.90',\n",
       "  'YEAR': '1997'},\n",
       " {'TITLE': 'Tupelo Honey',\n",
       "  'ARTIST': 'Van Morrison',\n",
       "  'COUNTRY': 'UK',\n",
       "  'COMPANY': 'Polydor',\n",
       "  'PRICE': '8.20',\n",
       "  'YEAR': '1971'},\n",
       " {'TITLE': 'Soulsville',\n",
       "  'ARTIST': 'Jorn Hoel',\n",
       "  'COUNTRY': 'Norway',\n",
       "  'COMPANY': 'WEA',\n",
       "  'PRICE': '7.90',\n",
       "  'YEAR': '1996'},\n",
       " {'TITLE': 'The very best of',\n",
       "  'ARTIST': 'Cat Stevens',\n",
       "  'COUNTRY': 'UK',\n",
       "  'COMPANY': 'Island',\n",
       "  'PRICE': '8.90',\n",
       "  'YEAR': '1990'},\n",
       " {'TITLE': 'Stop',\n",
       "  'ARTIST': 'Sam Brown',\n",
       "  'COUNTRY': 'UK',\n",
       "  'COMPANY': 'A and M',\n",
       "  'PRICE': '8.90',\n",
       "  'YEAR': '1988'},\n",
       " {'TITLE': 'Bridge of Spies',\n",
       "  'ARTIST': \"T'Pau\",\n",
       "  'COUNTRY': 'UK',\n",
       "  'COMPANY': 'Siren',\n",
       "  'PRICE': '7.90',\n",
       "  'YEAR': '1987'},\n",
       " {'TITLE': 'Private Dancer',\n",
       "  'ARTIST': 'Tina Turner',\n",
       "  'COUNTRY': 'UK',\n",
       "  'COMPANY': 'Capitol',\n",
       "  'PRICE': '8.90',\n",
       "  'YEAR': '1983'},\n",
       " {'TITLE': 'Midt om natten',\n",
       "  'ARTIST': 'Kim Larsen',\n",
       "  'COUNTRY': 'EU',\n",
       "  'COMPANY': 'Medley',\n",
       "  'PRICE': '7.80',\n",
       "  'YEAR': '1983'},\n",
       " {'TITLE': 'Pavarotti Gala Concert',\n",
       "  'ARTIST': 'Luciano Pavarotti',\n",
       "  'COUNTRY': 'UK',\n",
       "  'COMPANY': 'DECCA',\n",
       "  'PRICE': '9.90',\n",
       "  'YEAR': '1991'},\n",
       " {'TITLE': 'The dock of the bay',\n",
       "  'ARTIST': 'Otis Redding',\n",
       "  'COUNTRY': 'USA',\n",
       "  'COMPANY': 'Stax Records',\n",
       "  'PRICE': '7.90',\n",
       "  'YEAR': '1968'},\n",
       " {'TITLE': 'Picture book',\n",
       "  'ARTIST': 'Simply Red',\n",
       "  'COUNTRY': 'EU',\n",
       "  'COMPANY': 'Elektra',\n",
       "  'PRICE': '7.20',\n",
       "  'YEAR': '1985'},\n",
       " {'TITLE': 'Red',\n",
       "  'ARTIST': 'The Communards',\n",
       "  'COUNTRY': 'UK',\n",
       "  'COMPANY': 'London',\n",
       "  'PRICE': '7.80',\n",
       "  'YEAR': '1987'},\n",
       " {'TITLE': 'Unchain my heart',\n",
       "  'ARTIST': 'Joe Cocker',\n",
       "  'COUNTRY': 'USA',\n",
       "  'COMPANY': 'EMI',\n",
       "  'PRICE': '8.20',\n",
       "  'YEAR': '1987'}]"
      ]
     },
     "execution_count": 107,
     "metadata": {},
     "output_type": "execute_result"
    }
   ],
   "source": [
    "urlToDict('https://www.w3schools.com/xml/cd_catalog.xml','CD',['TITLE','ARTIST','COUNTRY','COMPANY','PRICE','YEAR'])"
   ]
  },
  {
   "cell_type": "markdown",
   "id": "775964b9-ef96-418f-afb9-bcac472a6a91",
   "metadata": {},
   "source": [
    "### Data to CSV"
   ]
  },
  {
   "cell_type": "markdown",
   "id": "d003028d-b251-4a55-ae3b-d5d1c14fabfd",
   "metadata": {},
   "source": [
    "Here Data is list of dictionaries"
   ]
  },
  {
   "cell_type": "code",
   "execution_count": 108,
   "id": "8b78173c-223b-44a9-9486-ee7e8cdeac6c",
   "metadata": {},
   "outputs": [],
   "source": [
    "import csv"
   ]
  },
  {
   "cell_type": "code",
   "execution_count": 120,
   "id": "54deeff4-1880-42a9-8d5c-f31e1917f980",
   "metadata": {},
   "outputs": [],
   "source": [
    "dataLst=[{\"data1\":1,\"data2\":2},{\"data1\":11,\"data2\":22},{\"data1\":111,\"data2\":222}]"
   ]
  },
  {
   "cell_type": "code",
   "execution_count": 121,
   "id": "2f666d96-f4bd-4b7f-b31b-6a9251743c5f",
   "metadata": {},
   "outputs": [],
   "source": [
    "with open(\"C://training//sample1.csv\",\"w\",newline='') as op:\n",
    "\n",
    "    dictWriter=csv.DictWriter(op,['data1','data2'])\n",
    "    dictWriter.writeheader()\n",
    "    dictWriter.writerows(dataLst) "
   ]
  },
  {
   "cell_type": "code",
   "execution_count": 122,
   "id": "82ae147d-4b01-4e77-931c-aeb17450c667",
   "metadata": {},
   "outputs": [
    {
     "name": "stdout",
     "output_type": "stream",
     "text": [
      "{'data1': '1', 'data2': '2'}\n",
      "{'data1': '11', 'data2': '22'}\n",
      "{'data1': '111', 'data2': '222'}\n"
     ]
    }
   ],
   "source": [
    "with open(\"C://Training//sample1.csv\",\"r\") as ip:\n",
    "\n",
    "    dictReader=csv.DictReader(ip)\n",
    "    for row in dictReader:\n",
    "        print(row) "
   ]
  },
  {
   "cell_type": "markdown",
   "id": "22b57e9f-dbe1-4360-a74b-573ac8475a3b",
   "metadata": {},
   "source": [
    "#### Data-To-CSV function"
   ]
  },
  {
   "cell_type": "code",
   "execution_count": 125,
   "id": "93d99500-d12d-495a-9f06-eb9804b5edf1",
   "metadata": {},
   "outputs": [],
   "source": [
    "def writeDataToCsv(filePath,dataLst,columns):\n",
    "    with open(filePath,\"w\",newline='') as op:\n",
    "        dictWriter=csv.DictWriter(op,columns)\n",
    "        dictWriter.writeheader()\n",
    "        dictWriter.writerows(dataLst)"
   ]
  },
  {
   "cell_type": "code",
   "execution_count": 126,
   "id": "b4143d85-57c7-41b7-9497-1b78132ac1c2",
   "metadata": {},
   "outputs": [],
   "source": [
    "plantsColumns=['COMMON','BOTANICAL','ZONE','LIGHT','PRICE','AVAILABILITY']\n",
    "plant=urlToDict('https://www.w3schools.com/xml/plant_catalog.xml','PLANT',plantsColumns)\n",
    "writeDataToCsv(\"C://training//plant.csv\",plant,plantsColumns)"
   ]
  },
  {
   "cell_type": "markdown",
   "id": "e88caac6-6a58-4d75-8359-5e8d6df93be6",
   "metadata": {},
   "source": [
    "### JSON"
   ]
  },
  {
   "cell_type": "markdown",
   "id": "4e275b56-2622-4523-87b0-35adf525aae9",
   "metadata": {},
   "source": [
    "#### Data to JSON"
   ]
  },
  {
   "cell_type": "code",
   "execution_count": 127,
   "id": "2ac87120-dfab-46f2-8534-924e295862da",
   "metadata": {},
   "outputs": [],
   "source": [
    "import json"
   ]
  },
  {
   "cell_type": "code",
   "execution_count": 128,
   "id": "5d5c11a9-4eff-40de-a7e9-ba7944f2ef38",
   "metadata": {},
   "outputs": [],
   "source": [
    "with open(\"C://training//plant.json\",\"w\") as op:\n",
    "    json.dump(plant,op)"
   ]
  },
  {
   "cell_type": "markdown",
   "id": "7cba8903-3419-45a1-a8f7-51cc85e264a8",
   "metadata": {},
   "source": [
    "#### Saving JSON from internet as a file"
   ]
  },
  {
   "cell_type": "code",
   "execution_count": 129,
   "id": "99e9d409-04cc-4216-bfb5-d8ebeef74b20",
   "metadata": {},
   "outputs": [],
   "source": [
    "import requests\n",
    "response=requests.get('https://jsonplaceholder.typicode.com/todos')\n",
    "jsonData=response.json()\n",
    "with open(\"C://training//todo1.json\",\"w\") as op:\n",
    "    json.dump(jsonData,op)"
   ]
  },
  {
   "cell_type": "markdown",
   "id": "d2d9525c-437d-412c-b4f4-29355730a1e3",
   "metadata": {},
   "source": [
    "JSON to CSV"
   ]
  },
  {
   "cell_type": "code",
   "execution_count": 132,
   "id": "ad59c667-4449-412f-bed7-91bd0ab37ab7",
   "metadata": {},
   "outputs": [],
   "source": [
    "import requests\n",
    "\n",
    "response=requests.get('https://jsonplaceholder.typicode.com/todos')\n",
    "jsonData=response.json()\n",
    "writeDataToCsv(\"C://training//todos1.csv\",jsonData,[\"userId\",\"id\",\"title\",\"completed\"])"
   ]
  },
  {
   "cell_type": "markdown",
   "id": "cbf14282-30d8-43f9-9897-6f5369906afd",
   "metadata": {},
   "source": [
    "#### JSON-to-CSV function"
   ]
  },
  {
   "cell_type": "code",
   "execution_count": 133,
   "id": "8226cc8b-4c8a-4daa-9940-ee7fcbcb2d16",
   "metadata": {},
   "outputs": [],
   "source": [
    "def writeJsonDataToCsv(url,filePath,columns):\n",
    "    response=requests.get(url)\n",
    "    jsonData=response.json()\n",
    "    writeDataToCsv(filePath,jsonData,columns)"
   ]
  },
  {
   "cell_type": "code",
   "execution_count": 134,
   "id": "722d6655-338c-4811-aaa1-e58c7f15802e",
   "metadata": {},
   "outputs": [],
   "source": [
    "writeJsonDataToCsv(\"https://jsonplaceholder.typicode.com/comments\",\"C://training//comments.csv\",[\"postId\",\"id\",\"name\",\"email\",\"body\"])"
   ]
  },
  {
   "cell_type": "code",
   "execution_count": 135,
   "id": "4c39bde8-7b1c-4238-863b-1e1097d2c243",
   "metadata": {},
   "outputs": [],
   "source": [
    "writeJsonDataToCsv(\"https://jsonplaceholder.typicode.com/posts\",\"C://training//posts.csv\",[\"userId\",\"id\",\"title\",\"body\"])"
   ]
  },
  {
   "cell_type": "code",
   "execution_count": 136,
   "id": "e17db249-0d48-4e39-ad0e-0c061d1c6d72",
   "metadata": {},
   "outputs": [],
   "source": [
    "writeJsonDataToCsv(\"https://jsonplaceholder.typicode.com/albums\",\"C://training//albums.csv\",[\"userId\",\"id\",\"title\"])"
   ]
  },
  {
   "cell_type": "code",
   "execution_count": null,
   "id": "c320c3a9-68f4-470b-9f8f-b97c42d80cec",
   "metadata": {},
   "outputs": [],
   "source": []
  }
 ],
 "metadata": {
  "kernelspec": {
   "display_name": "Python 3 (ipykernel)",
   "language": "python",
   "name": "python3"
  },
  "language_info": {
   "codemirror_mode": {
    "name": "ipython",
    "version": 3
   },
   "file_extension": ".py",
   "mimetype": "text/x-python",
   "name": "python",
   "nbconvert_exporter": "python",
   "pygments_lexer": "ipython3",
   "version": "3.11.4"
  }
 },
 "nbformat": 4,
 "nbformat_minor": 5
}
