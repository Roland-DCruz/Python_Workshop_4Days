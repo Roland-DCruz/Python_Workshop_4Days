{
 "cells": [
  {
   "cell_type": "markdown",
   "id": "a8f9da2a-0c01-49ce-96a1-260e0b4721d8",
   "metadata": {},
   "source": [
    "Python OOP \n",
    "Classes & Object\n",
    "Python classes ---syntax"
   ]
  },
  {
   "cell_type": "markdown",
   "id": "9a8cccc3-e8cd-45c6-90c6-793a7fc4e550",
   "metadata": {},
   "source": [
    "# OOP"
   ]
  },
  {
   "cell_type": "markdown",
   "id": "8d56a8ae-ddf6-4cae-9448-552fea705280",
   "metadata": {},
   "source": [
    "## Class"
   ]
  },
  {
   "cell_type": "code",
   "execution_count": 5,
   "id": "606c3b8f-2ce2-4448-a06c-04f9fde86355",
   "metadata": {},
   "outputs": [],
   "source": [
    "class A:\n",
    "    def __init__(self, n1):  # this is a constructor --> gets called when object gets created \n",
    "                             # self shd be the first argument within any function within a class\n",
    "        self.n1=n1\n",
    "\n",
    "    def display(self):\n",
    "        print(\"Value of n1 is\", self.n1)"
   ]
  },
  {
   "cell_type": "code",
   "execution_count": 6,
   "id": "1cce747c-7fee-403a-9029-02f528649da8",
   "metadata": {},
   "outputs": [],
   "source": [
    "a1 = A(22)\n",
    "\n",
    "# this will call init\n",
    "# here, self becomes a1    !!!!\n",
    "# n1 becomes 22"
   ]
  },
  {
   "cell_type": "code",
   "execution_count": 7,
   "id": "3e4cf931-8584-4055-af86-d72661a3159f",
   "metadata": {},
   "outputs": [
    {
     "name": "stdout",
     "output_type": "stream",
     "text": [
      "Value of n1 is 22\n"
     ]
    }
   ],
   "source": [
    "a1.display()"
   ]
  },
  {
   "cell_type": "code",
   "execution_count": 8,
   "id": "1952f235-2f5c-49ac-be0f-91c43c3089b6",
   "metadata": {},
   "outputs": [
    {
     "data": {
      "text/plain": [
       "22"
      ]
     },
     "execution_count": 8,
     "metadata": {},
     "output_type": "execute_result"
    }
   ],
   "source": [
    "a1.n1"
   ]
  },
  {
   "cell_type": "markdown",
   "id": "d1db389c-ea5e-40dd-8233-4be042c29a5f",
   "metadata": {},
   "source": [
    "Creating a student class"
   ]
  },
  {
   "cell_type": "code",
   "execution_count": 32,
   "id": "08898353-24de-446c-bcbb-c1d802b8517d",
   "metadata": {},
   "outputs": [],
   "source": [
    "class Student:\n",
    "    def __init__(self, rollNo, sName):\n",
    "        self.rollNo = rollNo\n",
    "        self.sName=sName\n",
    "\n",
    "    def display(self):\n",
    "        print(\"Name {} rollNo {}\".format(self.sName, self.rollNo))\n",
    "\n",
    "    def study(self):\n",
    "        print(s1.sName, \"is studying\")  # here instead of s1 it shd be self ig"
   ]
  },
  {
   "cell_type": "code",
   "execution_count": 29,
   "id": "aa7e479a-9ec9-4aeb-89a0-a54740882005",
   "metadata": {},
   "outputs": [],
   "source": [
    "s1 = Student(1, \"Roland\")"
   ]
  },
  {
   "cell_type": "code",
   "execution_count": 30,
   "id": "7e63ee61-1f93-45db-9379-3cd484f32a14",
   "metadata": {},
   "outputs": [
    {
     "name": "stdout",
     "output_type": "stream",
     "text": [
      "Name Roland rollNo 1\n"
     ]
    }
   ],
   "source": [
    "s1.display()"
   ]
  },
  {
   "cell_type": "code",
   "execution_count": 31,
   "id": "3b052565-ffe9-45ef-9d99-a97fdb9890cc",
   "metadata": {},
   "outputs": [
    {
     "name": "stdout",
     "output_type": "stream",
     "text": [
      "Roland is studying\n"
     ]
    }
   ],
   "source": [
    "s1.study()"
   ]
  },
  {
   "cell_type": "markdown",
   "id": "242e6779-564b-4f77-b6a8-9c64efe7ff59",
   "metadata": {},
   "source": [
    "These classes were just displaying.\n",
    "But classes can also perform operations..."
   ]
  },
  {
   "cell_type": "code",
   "execution_count": 40,
   "id": "141596ee-8ec0-4904-9bc8-f55fd95d8053",
   "metadata": {},
   "outputs": [],
   "source": [
    "class Calculator: \n",
    "    def __init__(self, calcSeries):\n",
    "        self.calcSeries = calcSeries\n",
    "\n",
    "    def add(self, n1, n2):\n",
    "        return n1 + n2\n",
    "\n",
    "    def sub(self, n1, n2):\n",
    "        return n1 - n2\n",
    "\n",
    "    def mul(self, n1, n2):\n",
    "        return n1 * n2\n",
    "\n",
    "    def divide(self, n1, n2):\n",
    "        return n1/n2"
   ]
  },
  {
   "cell_type": "code",
   "execution_count": 41,
   "id": "5d55f5a3-720d-44e9-8e3c-1d2382cbe1c2",
   "metadata": {},
   "outputs": [],
   "source": [
    "c1 = Calculator(\"X500\")"
   ]
  },
  {
   "cell_type": "code",
   "execution_count": 42,
   "id": "440df170-f8a8-4ea5-ad7d-6129e3b409bc",
   "metadata": {},
   "outputs": [
    {
     "data": {
      "text/plain": [
       "55"
      ]
     },
     "execution_count": 42,
     "metadata": {},
     "output_type": "execute_result"
    }
   ],
   "source": [
    "c1.add(22,33)"
   ]
  },
  {
   "cell_type": "markdown",
   "id": "c3405e4a-ab3c-4979-8add-a2f2e47db80b",
   "metadata": {},
   "source": [
    "default values"
   ]
  },
  {
   "cell_type": "code",
   "execution_count": 47,
   "id": "3f1957f8-4358-4634-a028-5f62c655e4f9",
   "metadata": {},
   "outputs": [],
   "source": [
    "class Sample:\n",
    "\n",
    "    def __init__(self,s1=100,s2=10):\n",
    "\n",
    "        self.s1=s1\n",
    "\n",
    "        self.s2=s2\n",
    " \n",
    "    def display(self):\n",
    "\n",
    "        print(\"s1 {} s2 {}\".format(self.s1,self.s2))\n",
    " "
   ]
  },
  {
   "cell_type": "code",
   "execution_count": 48,
   "id": "c7886272-d37f-428f-b79f-b9058251a682",
   "metadata": {},
   "outputs": [
    {
     "name": "stdout",
     "output_type": "stream",
     "text": [
      "s1 10 s2 2\n"
     ]
    }
   ],
   "source": [
    "s1 = Sample(10,2)\n",
    "s1.display()"
   ]
  },
  {
   "cell_type": "code",
   "execution_count": 49,
   "id": "414af0d4-c30c-4fa9-ab1f-7eace1b17a72",
   "metadata": {},
   "outputs": [
    {
     "name": "stdout",
     "output_type": "stream",
     "text": [
      "s1 100 s2 10\n"
     ]
    }
   ],
   "source": [
    "s2 = Sample()\n",
    "s2.display()\n"
   ]
  },
  {
   "cell_type": "code",
   "execution_count": 50,
   "id": "a930ac09-3a94-49f1-8b9e-43fee89ee160",
   "metadata": {},
   "outputs": [
    {
     "name": "stdout",
     "output_type": "stream",
     "text": [
      "s1 50 s2 10\n"
     ]
    }
   ],
   "source": [
    "s3 = Sample(50)\n",
    "s3.display()"
   ]
  },
  {
   "cell_type": "markdown",
   "id": "b5d7e5cd-8ed0-4642-a2db-a773666136ec",
   "metadata": {},
   "source": [
    "## Inheritance"
   ]
  },
  {
   "cell_type": "code",
   "execution_count": 59,
   "id": "62f2f429-0a79-464a-a6b6-23beda9e89d2",
   "metadata": {},
   "outputs": [],
   "source": [
    "class Parent:\n",
    "\n",
    "    def __init__(self,p1):\n",
    "        self.p1=p1\n",
    " \n",
    "    def displayz(self):\n",
    "        print(\"p1 from Parent\",self.p1)\n",
    " "
   ]
  },
  {
   "cell_type": "code",
   "execution_count": 64,
   "id": "c537e5dd-bfc4-454f-81e2-1ca4bbe2703a",
   "metadata": {},
   "outputs": [],
   "source": [
    "class Child1(Parent):\n",
    "\n",
    "    def __init__(self,p1,p2):\n",
    "        Parent.__init__(self,p1) #Calling parent constructor\n",
    "        self.p2=p2\n",
    " \n",
    "    def display(self):\n",
    "        print(\"p1\",self.p1,\"p2\",self.p2)\n",
    "        self.displayz()\n",
    " "
   ]
  },
  {
   "cell_type": "code",
   "execution_count": 65,
   "id": "70c7ce0b-7802-42d6-b9e7-f5874a59bf45",
   "metadata": {},
   "outputs": [],
   "source": [
    "c1= Child1(200,300)"
   ]
  },
  {
   "cell_type": "code",
   "execution_count": 66,
   "id": "929dd248-a144-495a-87b6-b0bf67eb655a",
   "metadata": {},
   "outputs": [
    {
     "name": "stdout",
     "output_type": "stream",
     "text": [
      "p1 200 p2 300\n",
      "p1 from Parent 200\n"
     ]
    }
   ],
   "source": [
    "c1.display()"
   ]
  },
  {
   "cell_type": "code",
   "execution_count": 63,
   "id": "fccc4c6a-4975-419f-93a1-3a1fe3c3261b",
   "metadata": {},
   "outputs": [
    {
     "name": "stdout",
     "output_type": "stream",
     "text": [
      "p1 from Parent 200\n"
     ]
    }
   ],
   "source": [
    "c1.displayz()"
   ]
  },
  {
   "cell_type": "markdown",
   "id": "ffdda8d8-2448-4541-a86c-d1bcc179d4f8",
   "metadata": {},
   "source": [
    "### Multiple Inheritance\n",
    "Python supports multiple inheristance.\n",
    "there is an ambiguity here: what if both parents have the same method with different implementation.\n",
    "\n",
    "This is resolved by checking which parent it extends from first!!!"
   ]
  },
  {
   "cell_type": "code",
   "execution_count": 68,
   "id": "15ac2860-9087-4a8b-a23b-ec6e6de32503",
   "metadata": {},
   "outputs": [],
   "source": [
    "class Parent1:\n",
    "    def __init__(self,p1):\n",
    "        self.p1=p1\n",
    " \n",
    "    def display(self):\n",
    "        print(\"p1 =>\",self.p1)"
   ]
  },
  {
   "cell_type": "code",
   "execution_count": 69,
   "id": "89c0913f-f225-427c-82a0-0a110f4a9470",
   "metadata": {},
   "outputs": [],
   "source": [
    "class Parent2:\n",
    "    def __init__(self,p2):\n",
    "        self.p2=p2\n",
    " \n",
    "    def display(self):\n",
    "        print(\"p2 =>\",self.p2)"
   ]
  },
  {
   "cell_type": "code",
   "execution_count": 80,
   "id": "64605462-30a4-4f48-a7eb-af8652f69dd8",
   "metadata": {},
   "outputs": [],
   "source": [
    "class Child2(Parent1,Parent2):\n",
    "    def __init__(self,p1,p2):\n",
    "        Parent1.__init__(self,p1)\n",
    "        Parent2.__init__(self,p2)"
   ]
  },
  {
   "cell_type": "code",
   "execution_count": 81,
   "id": "1a1abecc-02e4-4a45-8b35-f49a7e18874c",
   "metadata": {},
   "outputs": [],
   "source": [
    "c1 = Child2(99,67)"
   ]
  },
  {
   "cell_type": "code",
   "execution_count": 82,
   "id": "6b23d389-76ef-476e-a035-c69889176789",
   "metadata": {},
   "outputs": [
    {
     "name": "stdout",
     "output_type": "stream",
     "text": [
      "p1 => 99\n"
     ]
    }
   ],
   "source": [
    "c1.display()   # Which display function will be called ??? \n",
    "\n",
    "# Parent 1's Display \n",
    "# or \n",
    "# Parent 2's Display\n",
    "# Python referes to the display of the first Parent"
   ]
  },
  {
   "cell_type": "markdown",
   "id": "f3b31b59-fb08-4dd8-a541-f2386888a303",
   "metadata": {},
   "source": [
    "### Operator Overloading"
   ]
  },
  {
   "cell_type": "markdown",
   "id": "217fa6a4-0cff-4d2f-8348-1257cfdd9883",
   "metadata": {},
   "source": [
    "Complex numbers: real + i img"
   ]
  },
  {
   "cell_type": "markdown",
   "id": "9a773aea-85c4-4d05-8335-8dc9a0595431",
   "metadata": {},
   "source": [
    "refer to this link: https://www.toppr.com/guides/python-guide/tutorials/python-object-class/python-operator-overloading/"
   ]
  },
  {
   "cell_type": "code",
   "execution_count": 85,
   "id": "66850054-469e-4acf-974b-e67b995f6a61",
   "metadata": {},
   "outputs": [],
   "source": [
    "class Complex: \n",
    "    \n",
    "    def __init__(self, real, img):\n",
    "        self.real = real\n",
    "        self.img = img\n",
    "\n",
    "    def display(self):\n",
    "        print(\"Real {} Img {}\".format(self.real, self.img))\n",
    "\n",
    "    def add(self, c2):\n",
    "        real = self.real + c2.real\n",
    "        img = self.img + c2.img\n",
    "        return Complex(real, img)\n",
    "\n",
    "    def __add__(self,c2):\n",
    "        real = self.real+ c2.real\n",
    "        img = self.img + c2.img\n",
    "        return Complex(real,img) "
   ]
  },
  {
   "cell_type": "code",
   "execution_count": 87,
   "id": "15332e65-2d8a-4dfd-957f-bf8bf3b8e9eb",
   "metadata": {},
   "outputs": [
    {
     "name": "stdout",
     "output_type": "stream",
     "text": [
      "Real 30 Img 34\n"
     ]
    }
   ],
   "source": [
    "c1 = Complex(10,4)\n",
    "c2 = Complex(20,30)\n",
    "c3 = c1.add(c2)\n",
    "c3.display()"
   ]
  },
  {
   "cell_type": "code",
   "execution_count": 89,
   "id": "bd496187-d314-4f46-ac08-9db3a558cbee",
   "metadata": {},
   "outputs": [
    {
     "name": "stdout",
     "output_type": "stream",
     "text": [
      "Real 30 Img 34\n"
     ]
    }
   ],
   "source": [
    "c4 = c1 + c2    # you can do this b/c of the __add__ function\n",
    "c4.display() "
   ]
  },
  {
   "cell_type": "markdown",
   "id": "6331c93b-7ef0-44eb-8589-d1a0947d2f01",
   "metadata": {},
   "source": [
    "Point example"
   ]
  },
  {
   "cell_type": "code",
   "execution_count": 91,
   "id": "206417a3-f8f3-464b-a2d3-7254facafc26",
   "metadata": {},
   "outputs": [],
   "source": [
    "class Point:\n",
    "    def __init__(self,x,y):\n",
    "        self.x = x\n",
    "        self.y= y\n",
    " \n",
    "    def display(self):\n",
    "        print(\"x = {} y ={}\".format(self.x,self.y))\n",
    " \n",
    "    def greater(self,p2):\n",
    "        current = self.x * self.x + self.y *self.y\n",
    "        p2value= p2.x *p2.x +p2.y*p2.y\n",
    "        return current > p2value\n",
    " \n",
    "    def __gt__(self,p2):\n",
    "        current = self.x * self.x + self.y *self.y\n",
    "        p2value= p2.x *p2.x +p2.y*p2.y\n",
    "        return current > p2value"
   ]
  },
  {
   "cell_type": "code",
   "execution_count": 92,
   "id": "eac7ae09-c3d4-453a-87fa-526ec37f9026",
   "metadata": {},
   "outputs": [
    {
     "name": "stdout",
     "output_type": "stream",
     "text": [
      "True\n",
      "True\n"
     ]
    }
   ],
   "source": [
    "p1 = Point(20,30)\n",
    "p2 = Point(10,10)\n",
    "\n",
    "print(p1.greater(p2))\n",
    "print(p1 > p2) "
   ]
  },
  {
   "cell_type": "markdown",
   "id": "e4c16578-aee7-4f41-bbc5-a69ebbcaddb4",
   "metadata": {},
   "source": [
    "## Meta Programming\n",
    "we can create nested functions"
   ]
  },
  {
   "cell_type": "code",
   "execution_count": 93,
   "id": "ccbdc928-ee46-45d0-a4e4-209acb1c16e6",
   "metadata": {},
   "outputs": [],
   "source": [
    "def outer():\n",
    "    print(\"Inside outer function\")\n",
    "    def inner():\n",
    "        print(\"Inside inner function\")\n",
    "    inner()"
   ]
  },
  {
   "cell_type": "code",
   "execution_count": 94,
   "id": "6bbfcb6d-dd10-4f2f-a9b0-954d1dd367db",
   "metadata": {},
   "outputs": [
    {
     "name": "stdout",
     "output_type": "stream",
     "text": [
      "Inside outer function\n",
      "Inside inner function\n"
     ]
    }
   ],
   "source": [
    "outer()"
   ]
  },
  {
   "cell_type": "markdown",
   "id": "28abfff7-d17a-4b32-ad5d-14281dbac3e5",
   "metadata": {},
   "source": [
    "You can also return a function !!"
   ]
  },
  {
   "cell_type": "code",
   "execution_count": 95,
   "id": "52f05785-01f9-4671-ac1c-06c650627462",
   "metadata": {},
   "outputs": [],
   "source": [
    "def outer1():\n",
    "    print(\"Within outer1\")\n",
    "    def inner1():\n",
    "        print(\"Within inner1\")\n",
    "    return inner1 "
   ]
  },
  {
   "cell_type": "code",
   "execution_count": 96,
   "id": "f5d90779-6546-4629-9f63-58001507a2cc",
   "metadata": {},
   "outputs": [
    {
     "name": "stdout",
     "output_type": "stream",
     "text": [
      "Within outer1\n"
     ]
    }
   ],
   "source": [
    "res1 = outer1()"
   ]
  },
  {
   "cell_type": "markdown",
   "id": "db966066-167e-4e3b-a765-9d43aba7f793",
   "metadata": {},
   "source": [
    "here in the above inner1 is not called. instead it just returns the whole inner1 function"
   ]
  },
  {
   "cell_type": "code",
   "execution_count": 98,
   "id": "59724252-bd0b-4d1f-9cae-20ac63990e4a",
   "metadata": {},
   "outputs": [
    {
     "name": "stdout",
     "output_type": "stream",
     "text": [
      "Within inner1\n"
     ]
    }
   ],
   "source": [
    "res1()    # here the var is acting as a function"
   ]
  },
  {
   "cell_type": "markdown",
   "id": "67422cf9-4739-42c6-9da8-760e5b6c92b1",
   "metadata": {},
   "source": [
    "You can also add arguments"
   ]
  },
  {
   "cell_type": "code",
   "execution_count": 111,
   "id": "6d41015a-c879-41c9-9e79-ea9c00cd591c",
   "metadata": {},
   "outputs": [],
   "source": [
    "def outer2(p1):\n",
    "    print(\"Outer_2. p1 = {}\".format(p1))\n",
    "    def inner(p2):\n",
    "        print(\"Within inner, p1 =\",p1)\n",
    "        print(\"Within inner, p2 =\",p2)\n",
    "    return inner"
   ]
  },
  {
   "cell_type": "code",
   "execution_count": 112,
   "id": "a21d5cf4-b6f0-4e7c-96a6-ab55d18ec114",
   "metadata": {},
   "outputs": [
    {
     "name": "stdout",
     "output_type": "stream",
     "text": [
      "Outer_2. p1 = 10\n"
     ]
    }
   ],
   "source": [
    "res2 = outer2(10)"
   ]
  },
  {
   "cell_type": "code",
   "execution_count": 113,
   "id": "c0f2d4b8-d98e-4d6c-8851-29334bb0afb0",
   "metadata": {},
   "outputs": [
    {
     "name": "stdout",
     "output_type": "stream",
     "text": [
      "Within inner, p1 = 10\n",
      "Within inner, p2 = 20\n"
     ]
    }
   ],
   "source": [
    "res2(20)"
   ]
  },
  {
   "cell_type": "markdown",
   "id": "795be965-ad06-434a-9281-c4c1d18848c3",
   "metadata": {},
   "source": [
    "## Static variable\n",
    "can be accessed using the class name itself"
   ]
  },
  {
   "cell_type": "code",
   "execution_count": 122,
   "id": "efbd0806-8074-42ce-96ac-d9d200a26179",
   "metadata": {},
   "outputs": [],
   "source": [
    "class Website:\n",
    "    counter=0\n",
    "    def __init__(self,n1):\n",
    "        self.n1=n1\n",
    "        Website.counter=Website.counter+1 "
   ]
  },
  {
   "cell_type": "code",
   "execution_count": 123,
   "id": "93327a03-b22d-4e17-b21d-8d92fc9daec0",
   "metadata": {},
   "outputs": [],
   "source": [
    "s1 = Website(11)\n",
    "s2 = Website(22)"
   ]
  },
  {
   "cell_type": "code",
   "execution_count": 126,
   "id": "ccac5232-7a1b-4699-ba93-492ed7cdc675",
   "metadata": {},
   "outputs": [
    {
     "name": "stdout",
     "output_type": "stream",
     "text": [
      "No. of people who visited the website: 2\n"
     ]
    }
   ],
   "source": [
    "print(\"No. of people who visited the website:\", Website.counter)"
   ]
  },
  {
   "cell_type": "code",
   "execution_count": null,
   "id": "81c92232-04a8-402c-90bc-c330645171e3",
   "metadata": {},
   "outputs": [],
   "source": []
  },
  {
   "cell_type": "markdown",
   "id": "99381867-8a73-4519-8ddf-4ae859108479",
   "metadata": {},
   "source": [
    "## Decorator"
   ]
  },
  {
   "cell_type": "markdown",
   "id": "c8e2792e-8356-4866-9986-ec52da9b887a",
   "metadata": {},
   "source": [
    "Functions can be passed as arguments !!"
   ]
  },
  {
   "cell_type": "code",
   "execution_count": 127,
   "id": "7920f06a-321e-41ea-a41e-27e46cb0e8da",
   "metadata": {},
   "outputs": [],
   "source": [
    "def outer3(param1):\n",
    "    print(\"Inside outer3\")\n",
    "    print(\"Calling param1\")\n",
    "    param1()\n",
    "    print(\"Finished calling param1\") "
   ]
  },
  {
   "cell_type": "code",
   "execution_count": 128,
   "id": "0978e89d-1c7b-4300-8392-709aad3c3304",
   "metadata": {},
   "outputs": [],
   "source": [
    "def inner():\n",
    "    print(\"Hello from inner\")"
   ]
  },
  {
   "cell_type": "code",
   "execution_count": 129,
   "id": "cef2b582-dda4-4bf2-9f2a-8c53cb238010",
   "metadata": {},
   "outputs": [
    {
     "name": "stdout",
     "output_type": "stream",
     "text": [
      "Inside outer3\n",
      "Calling param1\n",
      "Hello from inner\n",
      "Finished calling param1\n"
     ]
    }
   ],
   "source": [
    "outer3(inner)"
   ]
  },
  {
   "cell_type": "code",
   "execution_count": 130,
   "id": "13ae1c60-20be-4b32-ba03-de87a748f233",
   "metadata": {},
   "outputs": [
    {
     "name": "stdout",
     "output_type": "stream",
     "text": [
      "Inside outer3\n",
      "Calling param1\n",
      "Hello from inner2\n",
      "Finished calling param1\n"
     ]
    }
   ],
   "source": [
    "@outer3\n",
    "def inner10():\n",
    "    print(\"Hello from inner2\")"
   ]
  },
  {
   "cell_type": "code",
   "execution_count": null,
   "id": "c07d3d2e-eee1-418f-be8b-094aff8b61cd",
   "metadata": {},
   "outputs": [],
   "source": []
  },
  {
   "cell_type": "markdown",
   "id": "6ed47ec6-c712-4c3d-a90e-59470fb0eb36",
   "metadata": {},
   "source": [
    "## Private, Protected & Public variable"
   ]
  },
  {
   "cell_type": "markdown",
   "id": "c0fc6bed-4ca4-4ce0-a2f2-30270479ccfd",
   "metadata": {},
   "source": [
    "private var is more of an indicator to the developer that it is private.\n",
    "In a class a normal variable is written normally.\n",
    "for Private it has 2 preceding underscore.\n",
    "for protected 1 underscores."
   ]
  },
  {
   "cell_type": "markdown",
   "id": "31fc2040-3daf-4e3b-b856-44a75a2fe892",
   "metadata": {},
   "source": [
    "Private: You can't access the var directly using an object of the class.\n",
    "\n",
    "You can however still access private vars using the class itself."
   ]
  },
  {
   "cell_type": "code",
   "execution_count": 132,
   "id": "44fc3df6-9184-4738-9536-10ab7caca4d0",
   "metadata": {},
   "outputs": [],
   "source": [
    "class Sample4:\n",
    "    \n",
    "    def __init__(self,p1):\n",
    "        self.p1 = p1\n",
    "        self.__p2=p1    # __p2 is a private variable\n",
    "        \n",
    "    def displayP2(self):    # this function can be used to access it\n",
    "        print(\"Value of p2 is\",self.__p2)"
   ]
  },
  {
   "cell_type": "code",
   "execution_count": 134,
   "id": "c05f1c4c-5550-4d76-b7fb-cc9912ad4816",
   "metadata": {},
   "outputs": [
    {
     "name": "stdout",
     "output_type": "stream",
     "text": [
      "Value of p2 is 55\n"
     ]
    }
   ],
   "source": [
    "s1 =Sample4(55)\n",
    "s1.displayP2()"
   ]
  },
  {
   "cell_type": "code",
   "execution_count": 135,
   "id": "c1e8661a-c5b5-45fd-98db-3837c08593de",
   "metadata": {},
   "outputs": [
    {
     "data": {
      "text/plain": [
       "55"
      ]
     },
     "execution_count": 135,
     "metadata": {},
     "output_type": "execute_result"
    }
   ],
   "source": [
    "s1.p1"
   ]
  },
  {
   "cell_type": "markdown",
   "id": "450d250b-21d1-4099-9b85-10890ec757c8",
   "metadata": {},
   "source": [
    "Below you see that u can't access it directly"
   ]
  },
  {
   "cell_type": "code",
   "execution_count": 137,
   "id": "460b40a2-6f76-4974-8e6e-5d9d8044bfd2",
   "metadata": {},
   "outputs": [
    {
     "ename": "AttributeError",
     "evalue": "'Sample4' object has no attribute '__p2'",
     "output_type": "error",
     "traceback": [
      "\u001b[1;31m---------------------------------------------------------------------------\u001b[0m",
      "\u001b[1;31mAttributeError\u001b[0m                            Traceback (most recent call last)",
      "Cell \u001b[1;32mIn[137], line 1\u001b[0m\n\u001b[1;32m----> 1\u001b[0m \u001b[43ms1\u001b[49m\u001b[38;5;241;43m.\u001b[39;49m\u001b[43m__p2\u001b[49m\n",
      "\u001b[1;31mAttributeError\u001b[0m: 'Sample4' object has no attribute '__p2'"
     ]
    }
   ],
   "source": [
    "# s1.__p2"
   ]
  },
  {
   "cell_type": "code",
   "execution_count": 136,
   "id": "294aa513-b80d-44f9-a02a-1000d0801774",
   "metadata": {},
   "outputs": [
    {
     "data": {
      "text/plain": [
       "55"
      ]
     },
     "execution_count": 136,
     "metadata": {},
     "output_type": "execute_result"
    }
   ],
   "source": [
    "s1._Sample4__p2"
   ]
  },
  {
   "cell_type": "code",
   "execution_count": null,
   "id": "5dc94fb1-e7b6-48b5-bea2-23247bcd3c52",
   "metadata": {},
   "outputs": [],
   "source": []
  },
  {
   "cell_type": "code",
   "execution_count": null,
   "id": "1b17d122-0a73-4221-98c7-bb4480711008",
   "metadata": {},
   "outputs": [],
   "source": []
  },
  {
   "cell_type": "markdown",
   "id": "8c463137-bcfe-4993-9f7f-0f1a906f8acd",
   "metadata": {},
   "source": [
    "# Regular Expressions"
   ]
  },
  {
   "cell_type": "markdown",
   "id": "2496389d-430e-4414-af78-4f0c1f7cde4a",
   "metadata": {},
   "source": [
    "These are a mixture of characters and letters"
   ]
  },
  {
   "cell_type": "code",
   "execution_count": 139,
   "id": "9ae4e611-2e06-4452-b398-a1854f4220de",
   "metadata": {},
   "outputs": [],
   "source": [
    "import re"
   ]
  },
  {
   "cell_type": "code",
   "execution_count": 141,
   "id": "aabddf36-16b5-4f11-8552-7e24079c739b",
   "metadata": {},
   "outputs": [
    {
     "name": "stdout",
     "output_type": "stream",
     "text": [
      "['at', 'at']\n"
     ]
    }
   ],
   "source": [
    "line = \"What is that we like\"\n",
    "matches = re.findall(\"at\", line)\n",
    "print(matches)"
   ]
  },
  {
   "cell_type": "code",
   "execution_count": 146,
   "id": "f7533b35-f73e-4903-bf10-5acd78f90748",
   "metadata": {},
   "outputs": [],
   "source": [
    "res = re.search(\"at\", line)    # indicates the presence. It only picks the first match only"
   ]
  },
  {
   "cell_type": "code",
   "execution_count": 147,
   "id": "1fd7a151-08b2-4efb-a585-6f93b2c66efb",
   "metadata": {},
   "outputs": [
    {
     "data": {
      "text/plain": [
       "2"
      ]
     },
     "execution_count": 147,
     "metadata": {},
     "output_type": "execute_result"
    }
   ],
   "source": [
    "res.start()"
   ]
  },
  {
   "cell_type": "code",
   "execution_count": 148,
   "id": "ec7cc9aa-e755-4117-bb77-686c4192b686",
   "metadata": {},
   "outputs": [
    {
     "data": {
      "text/plain": [
       "4"
      ]
     },
     "execution_count": 148,
     "metadata": {},
     "output_type": "execute_result"
    }
   ],
   "source": [
    "res.end()   # it will give the last letter "
   ]
  },
  {
   "cell_type": "code",
   "execution_count": 149,
   "id": "51eca85c-19bf-40df-a47a-544105b1c6e7",
   "metadata": {},
   "outputs": [
    {
     "data": {
      "text/plain": [
       "'at'"
      ]
     },
     "execution_count": 149,
     "metadata": {},
     "output_type": "execute_result"
    }
   ],
   "source": [
    "# group will show the matching character\n",
    "res.group()"
   ]
  },
  {
   "cell_type": "markdown",
   "id": "303b56d7-b75c-4485-abfe-8e8d01c10ffb",
   "metadata": {},
   "source": [
    "We can also give patterns"
   ]
  },
  {
   "cell_type": "code",
   "execution_count": 160,
   "id": "7edb30a1-e7ba-4a77-86ed-6e121d4996f1",
   "metadata": {},
   "outputs": [
    {
     "name": "stdout",
     "output_type": "stream",
     "text": [
      "['What', 'that']\n"
     ]
    }
   ],
   "source": [
    "line= \"What is that we like\"\n",
    "matches = re.findall(r\"\\b\\w*at\\b\",line)\n",
    "print(matches)\n",
    " "
   ]
  },
  {
   "cell_type": "markdown",
   "id": "25a21551-814c-4ba9-a593-89596450e127",
   "metadata": {},
   "source": [
    "You can use online regular expression generator websites"
   ]
  },
  {
   "cell_type": "markdown",
   "id": "1ef899e9-78b4-4c03-b690-f99cf77ff507",
   "metadata": {},
   "source": [
    "#### Github link: https://github.com/vishurudratrainer/notebooks/blob/main/jpmcsto/regularexpression.ipynb"
   ]
  },
  {
   "cell_type": "code",
   "execution_count": 164,
   "id": "c343e1de-7070-4000-9da9-74995b082b87",
   "metadata": {},
   "outputs": [
    {
     "name": "stdout",
     "output_type": "stream",
     "text": [
      "['12', '89', '34']\n"
     ]
    }
   ],
   "source": [
    "# Program to extract numbers from a string\n",
    " \n",
    "import re\n",
    " \n",
    "string = 'hello 12 hi 89. Howdy 34'\n",
    "pattern = '\\d+'\n",
    " \n",
    "result = re.findall(pattern, string) \n",
    "print(result)"
   ]
  },
  {
   "cell_type": "code",
   "execution_count": 165,
   "id": "00670389-031c-4877-8eef-a97470b25bab",
   "metadata": {},
   "outputs": [
    {
     "name": "stdout",
     "output_type": "stream",
     "text": [
      "['Twelve:', ' Eighty nine:', '.']\n"
     ]
    }
   ],
   "source": [
    "import re\n",
    " \n",
    "string = 'Twelve:12 Eighty nine:89.'\n",
    "pattern = '\\d+'\n",
    "result = re.split(pattern, string) \n",
    "print(result) "
   ]
  },
  {
   "cell_type": "code",
   "execution_count": 166,
   "id": "0c7373e0-febb-482a-9b56-9f8b118bae7d",
   "metadata": {},
   "outputs": [
    {
     "name": "stdout",
     "output_type": "stream",
     "text": [
      "abc12de23f456\n"
     ]
    }
   ],
   "source": [
    "# Program to remove all whitespaces\n",
    "import re\n",
    " \n",
    "# multiline string\n",
    "string = 'abc 12\\\n",
    "de 23 \\n f45 6'\n",
    " \n",
    "# matches all whitespace characters\n",
    "pattern = '\\s+'\n",
    " \n",
    "# empty string\n",
    "replace = ''\n",
    " \n",
    "new_string = re.sub(pattern, replace, string) \n",
    "print(new_string)"
   ]
  },
  {
   "cell_type": "code",
   "execution_count": 167,
   "id": "eee33886-946c-4170-839f-85deccae99ab",
   "metadata": {},
   "outputs": [
    {
     "name": "stdout",
     "output_type": "stream",
     "text": [
      "['\\n', '\\r']\n"
     ]
    }
   ],
   "source": [
    "string = '\\n and \\r are escape sequences.'\n",
    " \n",
    "result = re.findall(r'[\\n\\r]', string) \n",
    "print(result)"
   ]
  },
  {
   "cell_type": "code",
   "execution_count": null,
   "id": "46798796-ffe2-4d53-a30e-d72e37114673",
   "metadata": {},
   "outputs": [],
   "source": []
  }
 ],
 "metadata": {
  "kernelspec": {
   "display_name": "Python 3 (ipykernel)",
   "language": "python",
   "name": "python3"
  },
  "language_info": {
   "codemirror_mode": {
    "name": "ipython",
    "version": 3
   },
   "file_extension": ".py",
   "mimetype": "text/x-python",
   "name": "python",
   "nbconvert_exporter": "python",
   "pygments_lexer": "ipython3",
   "version": "3.11.4"
  }
 },
 "nbformat": 4,
 "nbformat_minor": 5
}
