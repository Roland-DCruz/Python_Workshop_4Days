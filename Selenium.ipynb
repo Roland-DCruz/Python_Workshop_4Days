{
 "cells": [
  {
   "cell_type": "code",
   "execution_count": 1,
   "id": "629ade6b-d8cc-4597-9282-52981cce21e8",
   "metadata": {},
   "outputs": [
    {
     "name": "stdout",
     "output_type": "stream",
     "text": [
      "Collecting selenium\n",
      "  Downloading selenium-4.25.0-py3-none-any.whl (9.7 MB)\n",
      "                                              0.0/9.7 MB ? eta -:--:--\n",
      "                                              0.0/9.7 MB ? eta -:--:--\n",
      "                                              0.1/9.7 MB 1.7 MB/s eta 0:00:06\n",
      "                                              0.2/9.7 MB 2.1 MB/s eta 0:00:05\n",
      "     -                                        0.4/9.7 MB 2.5 MB/s eta 0:00:04\n",
      "     --                                       0.6/9.7 MB 3.9 MB/s eta 0:00:03\n",
      "     ----                                     1.1/9.7 MB 5.5 MB/s eta 0:00:02\n",
      "     ------                                   1.5/9.7 MB 6.1 MB/s eta 0:00:02\n",
      "     -------                                  1.9/9.7 MB 6.6 MB/s eta 0:00:02\n",
      "     ------------                             2.9/9.7 MB 8.8 MB/s eta 0:00:01\n",
      "     --------------------                     4.9/9.7 MB 13.7 MB/s eta 0:00:01\n",
      "     --------------------------------         7.9/9.7 MB 20.2 MB/s eta 0:00:01\n",
      "     ---------------------------------------  9.7/9.7 MB 23.8 MB/s eta 0:00:01\n",
      "     ---------------------------------------  9.7/9.7 MB 23.8 MB/s eta 0:00:01\n",
      "     ---------------------------------------- 9.7/9.7 MB 20.0 MB/s eta 0:00:00\n",
      "Requirement already satisfied: urllib3[socks]<3,>=1.26 in c:\\python311\\lib\\site-packages (from selenium) (2.0.4)\n",
      "Collecting trio~=0.17 (from selenium)\n",
      "  Downloading trio-0.26.2-py3-none-any.whl (475 kB)\n",
      "                                              0.0/476.0 kB ? eta -:--:--\n",
      "     ------------------------------------- 476.0/476.0 kB 15.0 MB/s eta 0:00:00\n",
      "Collecting trio-websocket~=0.9 (from selenium)\n",
      "  Downloading trio_websocket-0.11.1-py3-none-any.whl (17 kB)\n",
      "Requirement already satisfied: certifi>=2021.10.8 in c:\\python311\\lib\\site-packages (from selenium) (2023.7.22)\n",
      "Collecting typing_extensions~=4.9 (from selenium)\n",
      "  Downloading typing_extensions-4.12.2-py3-none-any.whl (37 kB)\n",
      "Requirement already satisfied: websocket-client~=1.8 in c:\\python311\\lib\\site-packages (from selenium) (1.8.0)\n",
      "Requirement already satisfied: attrs>=23.2.0 in c:\\python311\\lib\\site-packages (from trio~=0.17->selenium) (24.2.0)\n",
      "Collecting sortedcontainers (from trio~=0.17->selenium)\n",
      "  Downloading sortedcontainers-2.4.0-py2.py3-none-any.whl (29 kB)\n",
      "Requirement already satisfied: idna in c:\\python311\\lib\\site-packages (from trio~=0.17->selenium) (3.4)\n",
      "Collecting outcome (from trio~=0.17->selenium)\n",
      "  Downloading outcome-1.3.0.post0-py2.py3-none-any.whl (10 kB)\n",
      "Requirement already satisfied: sniffio>=1.3.0 in c:\\python311\\lib\\site-packages (from trio~=0.17->selenium) (1.3.1)\n",
      "Requirement already satisfied: cffi>=1.14 in c:\\python311\\lib\\site-packages (from trio~=0.17->selenium) (1.15.1)\n",
      "Collecting wsproto>=0.14 (from trio-websocket~=0.9->selenium)\n",
      "  Downloading wsproto-1.2.0-py3-none-any.whl (24 kB)\n",
      "Collecting pysocks!=1.5.7,<2.0,>=1.5.6 (from urllib3[socks]<3,>=1.26->selenium)\n",
      "  Downloading PySocks-1.7.1-py3-none-any.whl (16 kB)\n",
      "Requirement already satisfied: pycparser in c:\\python311\\lib\\site-packages (from cffi>=1.14->trio~=0.17->selenium) (2.21)\n",
      "Requirement already satisfied: h11<1,>=0.9.0 in c:\\python311\\lib\\site-packages (from wsproto>=0.14->trio-websocket~=0.9->selenium) (0.14.0)\n",
      "Installing collected packages: sortedcontainers, wsproto, typing_extensions, pysocks, outcome, trio, trio-websocket, selenium\n",
      "  Attempting uninstall: typing_extensions\n",
      "    Found existing installation: typing_extensions 4.7.1\n",
      "    Uninstalling typing_extensions-4.7.1:\n",
      "      Successfully uninstalled typing_extensions-4.7.1\n",
      "Successfully installed outcome-1.3.0.post0 pysocks-1.7.1 selenium-4.25.0 sortedcontainers-2.4.0 trio-0.26.2 trio-websocket-0.11.1 typing_extensions-4.12.2 wsproto-1.2.0\n"
     ]
    },
    {
     "name": "stderr",
     "output_type": "stream",
     "text": [
      "\n",
      "[notice] A new release of pip is available: 23.1.2 -> 24.2\n",
      "[notice] To update, run: python.exe -m pip install --upgrade pip\n"
     ]
    }
   ],
   "source": [
    "!pip install selenium"
   ]
  },
  {
   "cell_type": "code",
   "execution_count": 10,
   "id": "c0b77025-6547-4294-be02-50d3ed92186e",
   "metadata": {},
   "outputs": [
    {
     "name": "stdout",
     "output_type": "stream",
     "text": [
      "Google\n"
     ]
    }
   ],
   "source": [
    "from selenium import webdriver\n",
    "from selenium.webdriver.common.by import By\n",
    "from selenium.webdriver.common.keys import Keys\n",
    "import time\n",
    "\n",
    "driver = webdriver.Edge()\n",
    "driver.get(\"https://www.google.com\")\n",
    "print(driver.title)\n",
    "\n",
    "element1 = driver.find_element(By.TAG_NAME, \"textarea\")\n",
    "element1.send_keys(\"selenium\")\n",
    "element1.send_keys(Keys.RETURN)\n",
    "\n",
    "time.sleep(5)\n",
    "driver.quit()"
   ]
  },
  {
   "cell_type": "code",
   "execution_count": 13,
   "id": "2d207b8e-c068-410f-ab67-fcabcb22cff6",
   "metadata": {},
   "outputs": [
    {
     "name": "stdout",
     "output_type": "stream",
     "text": [
      "Python Software Foundation\n",
      "https://www.python.org/psf-landing/\n",
      "<selenium.webdriver.remote.webelement.WebElement (session=\"bac680037e87ff15e4d35e2a510add96\", element=\"f.3807027000598EF2559E96FDF5424B0D.d.47258622DBCFFEBA4456BB94F5BB46A4.e.16\")>\n",
      "https://www.python.org/psf/board/\n"
     ]
    },
    {
     "ename": "WebDriverException",
     "evalue": "Message: unknown error: net::ERR_NAME_NOT_RESOLVED\n  (Session info: MicrosoftEdge=129.0.2792.79)\nStacktrace:\n\tGetHandleVerifier [0x00007FF7BF19CF25+12997]\n\tMicrosoft::Applications::Events::EventProperty::empty [0x00007FF7BF41BCE4+1897876]\n\t(No symbol) [0x00007FF7BEF4F1CC]\n\t(No symbol) [0x00007FF7BEF476AB]\n\t(No symbol) [0x00007FF7BEF3AE61]\n\t(No symbol) [0x00007FF7BEF3C4BE]\n\t(No symbol) [0x00007FF7BEF3B069]\n\t(No symbol) [0x00007FF7BEF3AAB9]\n\t(No symbol) [0x00007FF7BEF3AA5E]\n\t(No symbol) [0x00007FF7BEF38D71]\n\t(No symbol) [0x00007FF7BEF3911C]\n\t(No symbol) [0x00007FF7BEF51CF1]\n\t(No symbol) [0x00007FF7BEFD2E0E]\n\t(No symbol) [0x00007FF7BEFB7F4A]\n\t(No symbol) [0x00007FF7BEF8C09D]\n\t(No symbol) [0x00007FF7BEFD2887]\n\t(No symbol) [0x00007FF7BEFB7BB3]\n\t(No symbol) [0x00007FF7BEF8B5AC]\n\t(No symbol) [0x00007FF7BEF8AA8D]\n\t(No symbol) [0x00007FF7BEF8B171]\n\tMicrosoft::Applications::Events::EventProperty::empty [0x00007FF7BF349E34+1038052]\n\tMicrosoft::Applications::Events::EventProperty::~EventProperty [0x00007FF7BF0C095F+56655]\n\tMicrosoft::Applications::Events::EventProperty::~EventProperty [0x00007FF7BF0B3103+1267]\n\tMicrosoft::Applications::Events::EventProperty::empty [0x00007FF7BF348BBD+1033325]\n\tMicrosoft::Applications::Events::ILogConfiguration::operator* [0x00007FF7BF139791+327745]\n\tMicrosoft::Applications::Events::ILogConfiguration::operator* [0x00007FF7BF135C14+312516]\n\tMicrosoft::Applications::Events::ILogConfiguration::operator* [0x00007FF7BF135D49+312825]\n\tMicrosoft::Applications::Events::ILogConfiguration::operator* [0x00007FF7BF12C2BC+273260]\n\tBaseThreadInitThunk [0x00007FF98AB47AC4+20]\n\tRtlUserThreadStart [0x00007FF98B50A8C1+33]\n",
     "output_type": "error",
     "traceback": [
      "\u001b[1;31m---------------------------------------------------------------------------\u001b[0m",
      "\u001b[1;31mWebDriverException\u001b[0m                        Traceback (most recent call last)",
      "Cell \u001b[1;32mIn[13], line 8\u001b[0m\n\u001b[0;32m      6\u001b[0m \u001b[38;5;28mprint\u001b[39m(quote)\n\u001b[0;32m      7\u001b[0m \u001b[38;5;28mprint\u001b[39m(quote\u001b[38;5;241m.\u001b[39mget_dom_attribute(\u001b[38;5;124m\"\u001b[39m\u001b[38;5;124mhref\u001b[39m\u001b[38;5;124m\"\u001b[39m))\n\u001b[1;32m----> 8\u001b[0m \u001b[43mdriver\u001b[49m\u001b[38;5;241;43m.\u001b[39;49m\u001b[43mget\u001b[49m\u001b[43m(\u001b[49m\u001b[38;5;124;43m\"\u001b[39;49m\u001b[38;5;124;43mhttps://www.python.org\u001b[39;49m\u001b[38;5;124;43m\"\u001b[39;49m\u001b[43m \u001b[49m\u001b[38;5;241;43m+\u001b[39;49m\u001b[43m \u001b[49m\u001b[43mquote\u001b[49m\u001b[38;5;241;43m.\u001b[39;49m\u001b[43mget_dom_attribute\u001b[49m\u001b[43m(\u001b[49m\u001b[38;5;124;43m\"\u001b[39;49m\u001b[38;5;124;43mhref\u001b[39;49m\u001b[38;5;124;43m\"\u001b[39;49m\u001b[43m)\u001b[49m\u001b[43m)\u001b[49m\n\u001b[0;32m     10\u001b[0m time\u001b[38;5;241m.\u001b[39msleep(\u001b[38;5;241m2\u001b[39m)\n\u001b[0;32m     11\u001b[0m \u001b[38;5;28mprint\u001b[39m(driver\u001b[38;5;241m.\u001b[39mcurrent_url)\n",
      "File \u001b[1;32mC:\\Python311\\Lib\\site-packages\\selenium\\webdriver\\remote\\webdriver.py:363\u001b[0m, in \u001b[0;36mWebDriver.get\u001b[1;34m(self, url)\u001b[0m\n\u001b[0;32m    361\u001b[0m \u001b[38;5;28;01mdef\u001b[39;00m \u001b[38;5;21mget\u001b[39m(\u001b[38;5;28mself\u001b[39m, url: \u001b[38;5;28mstr\u001b[39m) \u001b[38;5;241m-\u001b[39m\u001b[38;5;241m>\u001b[39m \u001b[38;5;28;01mNone\u001b[39;00m:\n\u001b[0;32m    362\u001b[0m \u001b[38;5;250m    \u001b[39m\u001b[38;5;124;03m\"\"\"Loads a web page in the current browser session.\"\"\"\u001b[39;00m\n\u001b[1;32m--> 363\u001b[0m     \u001b[38;5;28;43mself\u001b[39;49m\u001b[38;5;241;43m.\u001b[39;49m\u001b[43mexecute\u001b[49m\u001b[43m(\u001b[49m\u001b[43mCommand\u001b[49m\u001b[38;5;241;43m.\u001b[39;49m\u001b[43mGET\u001b[49m\u001b[43m,\u001b[49m\u001b[43m \u001b[49m\u001b[43m{\u001b[49m\u001b[38;5;124;43m\"\u001b[39;49m\u001b[38;5;124;43murl\u001b[39;49m\u001b[38;5;124;43m\"\u001b[39;49m\u001b[43m:\u001b[49m\u001b[43m \u001b[49m\u001b[43murl\u001b[49m\u001b[43m}\u001b[49m\u001b[43m)\u001b[49m\n",
      "File \u001b[1;32mC:\\Python311\\Lib\\site-packages\\selenium\\webdriver\\remote\\webdriver.py:354\u001b[0m, in \u001b[0;36mWebDriver.execute\u001b[1;34m(self, driver_command, params)\u001b[0m\n\u001b[0;32m    352\u001b[0m response \u001b[38;5;241m=\u001b[39m \u001b[38;5;28mself\u001b[39m\u001b[38;5;241m.\u001b[39mcommand_executor\u001b[38;5;241m.\u001b[39mexecute(driver_command, params)\n\u001b[0;32m    353\u001b[0m \u001b[38;5;28;01mif\u001b[39;00m response:\n\u001b[1;32m--> 354\u001b[0m     \u001b[38;5;28;43mself\u001b[39;49m\u001b[38;5;241;43m.\u001b[39;49m\u001b[43merror_handler\u001b[49m\u001b[38;5;241;43m.\u001b[39;49m\u001b[43mcheck_response\u001b[49m\u001b[43m(\u001b[49m\u001b[43mresponse\u001b[49m\u001b[43m)\u001b[49m\n\u001b[0;32m    355\u001b[0m     response[\u001b[38;5;124m\"\u001b[39m\u001b[38;5;124mvalue\u001b[39m\u001b[38;5;124m\"\u001b[39m] \u001b[38;5;241m=\u001b[39m \u001b[38;5;28mself\u001b[39m\u001b[38;5;241m.\u001b[39m_unwrap_value(response\u001b[38;5;241m.\u001b[39mget(\u001b[38;5;124m\"\u001b[39m\u001b[38;5;124mvalue\u001b[39m\u001b[38;5;124m\"\u001b[39m, \u001b[38;5;28;01mNone\u001b[39;00m))\n\u001b[0;32m    356\u001b[0m     \u001b[38;5;28;01mreturn\u001b[39;00m response\n",
      "File \u001b[1;32mC:\\Python311\\Lib\\site-packages\\selenium\\webdriver\\remote\\errorhandler.py:229\u001b[0m, in \u001b[0;36mErrorHandler.check_response\u001b[1;34m(self, response)\u001b[0m\n\u001b[0;32m    227\u001b[0m         alert_text \u001b[38;5;241m=\u001b[39m value[\u001b[38;5;124m\"\u001b[39m\u001b[38;5;124malert\u001b[39m\u001b[38;5;124m\"\u001b[39m]\u001b[38;5;241m.\u001b[39mget(\u001b[38;5;124m\"\u001b[39m\u001b[38;5;124mtext\u001b[39m\u001b[38;5;124m\"\u001b[39m)\n\u001b[0;32m    228\u001b[0m     \u001b[38;5;28;01mraise\u001b[39;00m exception_class(message, screen, stacktrace, alert_text)  \u001b[38;5;66;03m# type: ignore[call-arg]  # mypy is not smart enough here\u001b[39;00m\n\u001b[1;32m--> 229\u001b[0m \u001b[38;5;28;01mraise\u001b[39;00m exception_class(message, screen, stacktrace)\n",
      "\u001b[1;31mWebDriverException\u001b[0m: Message: unknown error: net::ERR_NAME_NOT_RESOLVED\n  (Session info: MicrosoftEdge=129.0.2792.79)\nStacktrace:\n\tGetHandleVerifier [0x00007FF7BF19CF25+12997]\n\tMicrosoft::Applications::Events::EventProperty::empty [0x00007FF7BF41BCE4+1897876]\n\t(No symbol) [0x00007FF7BEF4F1CC]\n\t(No symbol) [0x00007FF7BEF476AB]\n\t(No symbol) [0x00007FF7BEF3AE61]\n\t(No symbol) [0x00007FF7BEF3C4BE]\n\t(No symbol) [0x00007FF7BEF3B069]\n\t(No symbol) [0x00007FF7BEF3AAB9]\n\t(No symbol) [0x00007FF7BEF3AA5E]\n\t(No symbol) [0x00007FF7BEF38D71]\n\t(No symbol) [0x00007FF7BEF3911C]\n\t(No symbol) [0x00007FF7BEF51CF1]\n\t(No symbol) [0x00007FF7BEFD2E0E]\n\t(No symbol) [0x00007FF7BEFB7F4A]\n\t(No symbol) [0x00007FF7BEF8C09D]\n\t(No symbol) [0x00007FF7BEFD2887]\n\t(No symbol) [0x00007FF7BEFB7BB3]\n\t(No symbol) [0x00007FF7BEF8B5AC]\n\t(No symbol) [0x00007FF7BEF8AA8D]\n\t(No symbol) [0x00007FF7BEF8B171]\n\tMicrosoft::Applications::Events::EventProperty::empty [0x00007FF7BF349E34+1038052]\n\tMicrosoft::Applications::Events::EventProperty::~EventProperty [0x00007FF7BF0C095F+56655]\n\tMicrosoft::Applications::Events::EventProperty::~EventProperty [0x00007FF7BF0B3103+1267]\n\tMicrosoft::Applications::Events::EventProperty::empty [0x00007FF7BF348BBD+1033325]\n\tMicrosoft::Applications::Events::ILogConfiguration::operator* [0x00007FF7BF139791+327745]\n\tMicrosoft::Applications::Events::ILogConfiguration::operator* [0x00007FF7BF135C14+312516]\n\tMicrosoft::Applications::Events::ILogConfiguration::operator* [0x00007FF7BF135D49+312825]\n\tMicrosoft::Applications::Events::ILogConfiguration::operator* [0x00007FF7BF12C2BC+273260]\n\tBaseThreadInitThunk [0x00007FF98AB47AC4+20]\n\tRtlUserThreadStart [0x00007FF98B50A8C1+33]\n"
     ]
    }
   ],
   "source": [
    "driver = webdriver.Edge()\n",
    "driver.get(\"https://www.python.org/psf-landing/\")\n",
    "print(driver.title)\n",
    "print(driver.current_url)\n",
    "quote = driver.find_element(By.XPATH, \"//*[@id='about']/ul/li[2]/a\")\n",
    "print(quote)\n",
    "print(quote.get_dom_attribute(\"href\"))\n",
    "driver.get(\"https://www.python.org\" + quote.get_dom_attribute(\"href\"))\n",
    "\n",
    "time.sleep(2)\n",
    "print(driver.current_url)\n",
    "driver.quit()"
   ]
  },
  {
   "cell_type": "markdown",
   "id": "b76ee4cf-531a-426b-81bd-369208d3b6d2",
   "metadata": {},
   "source": [
    "### Fill up a form"
   ]
  },
  {
   "cell_type": "code",
   "execution_count": 15,
   "id": "14e76520-ebe5-430c-a79f-d09ea863c384",
   "metadata": {},
   "outputs": [
    {
     "ename": "AttributeError",
     "evalue": "'WebElement' object has no attribute 'sendk_keys'",
     "output_type": "error",
     "traceback": [
      "\u001b[1;31m---------------------------------------------------------------------------\u001b[0m",
      "\u001b[1;31mAttributeError\u001b[0m                            Traceback (most recent call last)",
      "Cell \u001b[1;32mIn[15], line 6\u001b[0m\n\u001b[0;32m      4\u001b[0m search \u001b[38;5;241m=\u001b[39m driver\u001b[38;5;241m.\u001b[39mfind_element(By\u001b[38;5;241m.\u001b[39mID, \u001b[38;5;124m\"\u001b[39m\u001b[38;5;124mid-search-field\u001b[39m\u001b[38;5;124m\"\u001b[39m)\n\u001b[0;32m      5\u001b[0m search\u001b[38;5;241m.\u001b[39msend_keys(\u001b[38;5;124m\"\u001b[39m\u001b[38;5;124mPython documentation\u001b[39m\u001b[38;5;124m\"\u001b[39m)\n\u001b[1;32m----> 6\u001b[0m \u001b[43msearch\u001b[49m\u001b[38;5;241;43m.\u001b[39;49m\u001b[43msendk_keys\u001b[49m(Keys\u001b[38;5;241m.\u001b[39mRETURN)\n\u001b[0;32m      7\u001b[0m time\u001b[38;5;241m.\u001b[39msleep(\u001b[38;5;241m3\u001b[39m)\n\u001b[0;32m      8\u001b[0m \u001b[38;5;28mprint\u001b[39m(driver\u001b[38;5;241m.\u001b[39mcurrent_url)\n",
      "\u001b[1;31mAttributeError\u001b[0m: 'WebElement' object has no attribute 'sendk_keys'"
     ]
    }
   ],
   "source": [
    "driver = webdriver.Edge()\n",
    "driver.get(\"https://www.python.org/\")\n",
    "\n",
    "search = driver.find_element(By.ID, \"id-search-field\")\n",
    "search.send_keys(\"Python documentation\")\n",
    "search.sendk_keys(Keys.RETURN)\n",
    "time.sleep(3)\n",
    "print(driver.current_url)\n",
    "driver.quit()"
   ]
  },
  {
   "cell_type": "code",
   "execution_count": 16,
   "id": "541b5c1b-ed02-4178-b19a-4b0e1541eb7c",
   "metadata": {},
   "outputs": [],
   "source": [
    "driver = webdriver.Edge()\n",
    "driver.get(\"https://www.selenium.dev/selenium/web/web-form.html\")\n",
    "textElement = driver.find_element(By.ID, \"my-text-id\")\n",
    "textElement.send_keys(\"Vishwa\")\n",
    "passwordElement = driver.find_element(By.NAME, \"my-password\")\n",
    "passwordElement.send_keys(\"Vishwa\")\n"
   ]
  },
  {
   "cell_type": "code",
   "execution_count": null,
   "id": "0cac1580-2eef-465d-a591-fa482ca1906e",
   "metadata": {},
   "outputs": [],
   "source": []
  }
 ],
 "metadata": {
  "kernelspec": {
   "display_name": "Python 3 (ipykernel)",
   "language": "python",
   "name": "python3"
  },
  "language_info": {
   "codemirror_mode": {
    "name": "ipython",
    "version": 3
   },
   "file_extension": ".py",
   "mimetype": "text/x-python",
   "name": "python",
   "nbconvert_exporter": "python",
   "pygments_lexer": "ipython3",
   "version": "3.11.4"
  }
 },
 "nbformat": 4,
 "nbformat_minor": 5
}
